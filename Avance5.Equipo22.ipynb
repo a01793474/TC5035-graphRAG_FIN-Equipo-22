{
 "cells": [
  {
   "cell_type": "markdown",
   "id": "745ebbc2",
   "metadata": {},
   "source": [
    "# Generate graphRAG for Financial Data #"
   ]
  },
  {
   "cell_type": "markdown",
   "id": "b89d8938",
   "metadata": {},
   "source": [
    "## Imports ##"
   ]
  },
  {
   "cell_type": "code",
   "execution_count": 1,
   "id": "a5fd823d-c64e-4a2d-a01f-67e52191045e",
   "metadata": {
    "tags": []
   },
   "outputs": [],
   "source": [
    "import os\n",
    "import glob\n",
    "import time\n",
    "import pandas as pd\n",
    "from dotenv import load_dotenv\n",
    "from pathlib import Path\n",
    "from typing import List\n",
    "\n",
    "from langchain_community.document_loaders import TextLoader\n",
    "from langchain_community.graphs import Neo4jGraph\n",
    "from langchain_core.prompts import ChatPromptTemplate\n",
    "from langchain_core.pydantic_v1 import BaseModel, Field\n",
    "from langchain_openai import ChatOpenAI, OpenAIEmbeddings, AzureOpenAIEmbeddings, AzureChatOpenAI\n",
    "from langchain_text_splitters import TokenTextSplitter\n",
    "from neo4j.exceptions import ClientError\n",
    "\n",
    "import openai\n",
    "from openai import OpenAI\n",
    "from openai import AzureOpenAI\n",
    "\n",
    "from time import sleep\n",
    "\n"
   ]
  },
  {
   "cell_type": "markdown",
   "id": "94281a6d-9bd8-46bc-896b-a96961f004f7",
   "metadata": {
    "tags": []
   },
   "source": [
    "## Initializations ##"
   ]
  },
  {
   "cell_type": "code",
   "execution_count": 2,
   "id": "f9a98868-d5ea-45e7-b66c-7f6e91ae0f46",
   "metadata": {
    "tags": []
   },
   "outputs": [],
   "source": [
    "# Load from environment\n",
    "load_dotenv('.env', override=True)\n",
    "\n",
    "AZURE_OPENAI_ENDPOINT=os.getenv(\"AZURE_OPENAI_ENDPOINT\")\n",
    "AZURE_OPENAI_API_KEY=os.getenv(\"AZURE_OPENAI_API_KEY\"), \n",
    "\n",
    "\n",
    "\n",
    "# Embeddings & LLM models\n",
    "embedding_dimension = 1536\n",
    "embeddings = AzureOpenAIEmbeddings(azure_deployment=\"text-embedding-3\",api_version=\"2024-02-01\",dimensions=embedding_dimension)\n",
    "\n",
    "llm = AzureChatOpenAI(azure_deployment='chat_gtp_35',api_version=\"2023-05-15\", temperature=0)\n",
    "\n",
    "# Get Neo4j credentials from environment variables\n",
    "NEO4J_URI=os.getenv(\"NEO4J_URI\")\n",
    "NEO4J_USERNAME=os.getenv(\"NEO4J_USERNAME\")\n",
    "NEO4J_PASSWORD=os.getenv(\"NEO4J_PASSWORD\")\n",
    "\n",
    "graph = Neo4jGraph(url=NEO4J_URI,username=NEO4J_USERNAME,password=NEO4J_PASSWORD)\n",
    "sleep(5)\n",
    "graph.query(\"MATCH (n) DETACH DELETE n\")\n",
    "\n",
    "class Questions(BaseModel):\n",
    "    \"\"\"Generating hypothetical questions about text.\"\"\"\n",
    "\n",
    "    questions: List[str] = Field(\n",
    "        ...,\n",
    "        description=(\n",
    "            \"Generated hypothetical questions based on \" \"the information from the text\"\n",
    "        ),\n",
    "    )\n",
    "\n",
    "\n",
    "questions_prompt = ChatPromptTemplate.from_messages(\n",
    "    [\n",
    "        (\n",
    "            \"system\",\n",
    "            (\n",
    "                \"You are generating a maximum of 10 hypothetical questions based on the information and return the output in JSON format \"\n",
    "                \"Make sure to provide full context in the generated \"\n",
    "                \"questions but again only 10 questions are required.\"\n",
    "            ),\n",
    "        ),\n",
    "        (\n",
    "            \"human\",\n",
    "            (\n",
    "                \"Use the given format to generate hypothetical questions from the\"\n",
    "                \"following input: {input}\"\n",
    "            ),\n",
    "        ),\n",
    "    ]\n",
    ")\n",
    "\n",
    "question_chain = questions_prompt | llm.with_structured_output(Questions.json)\n",
    "\n",
    "# Ingest summaries\n",
    "\n",
    "summary_prompt = ChatPromptTemplate.from_messages(\n",
    "    [\n",
    "        (\n",
    "            \"system\",\n",
    "            (\n",
    "                \"You are generating concise and accurate summaries based on the \"\n",
    "                \"information found in the text.\"\n",
    "            ),\n",
    "        ),\n",
    "        (\n",
    "            \"human\",\n",
    "            (\"Generate a summary of the following input: {question}\\n\" \"Summary:\"),\n",
    "        ),\n",
    "    ]\n",
    ")\n",
    "\n",
    "summary_chain = summary_prompt | llm\n",
    "\n",
    "def clean_questions_data(questions_data):\n",
    "    if 'questions' not in questions_data:\n",
    "        return []\n",
    "\n",
    "    cleaned_questions = []\n",
    "    for entry in questions_data['questions']:\n",
    "        if isinstance(entry, dict) and 'question' in entry:\n",
    "            cleaned_questions.append(entry)\n",
    "        elif isinstance(entry, str):\n",
    "            cleaned_questions.append({'question': entry})\n",
    "        else:\n",
    "            # Handle cases where the entry is not a string or doesn't contain the 'question' key\n",
    "            print(f\"Invalid entry found and skipped: {entry}\")\n",
    "    # Convert the cleaned_questions list into a pandas DataFrame\n",
    "    df = pd.DataFrame(cleaned_questions)\n",
    "\n",
    "    # Generate a unique file ID using the current timestamp\n",
    "    import datetime\n",
    "    timestamp = datetime.datetime.now().strftime(\"%Y%m%d%H%M%S\")\n",
    "    file_id = f\"questions_{timestamp}\"\n",
    "\n",
    "    # Save the DataFrame into a CSV file with the unique file ID\n",
    "    df.to_csv(f\"./LLM_questions/{file_id}.csv\", index=False)\n",
    "    return cleaned_questions"
   ]
  },
  {
   "cell_type": "markdown",
   "id": "84b6f8d5",
   "metadata": {},
   "source": [
    "## Data ##"
   ]
  },
  {
   "cell_type": "code",
   "execution_count": 3,
   "id": "10c33424",
   "metadata": {
    "tags": []
   },
   "outputs": [
    {
     "data": {
      "text/html": [
       "<div>\n",
       "<style scoped>\n",
       "    .dataframe tbody tr th:only-of-type {\n",
       "        vertical-align: middle;\n",
       "    }\n",
       "\n",
       "    .dataframe tbody tr th {\n",
       "        vertical-align: top;\n",
       "    }\n",
       "\n",
       "    .dataframe thead th {\n",
       "        text-align: right;\n",
       "    }\n",
       "</style>\n",
       "<table border=\"1\" class=\"dataframe\">\n",
       "  <thead>\n",
       "    <tr style=\"text-align: right;\">\n",
       "      <th></th>\n",
       "      <th>cik</th>\n",
       "      <th>name</th>\n",
       "      <th>entityType</th>\n",
       "      <th>sic</th>\n",
       "      <th>sicDescription</th>\n",
       "      <th>tickers</th>\n",
       "      <th>exchanges</th>\n",
       "      <th>category</th>\n",
       "      <th>phone</th>\n",
       "      <th>address</th>\n",
       "      <th>10-K-1</th>\n",
       "    </tr>\n",
       "  </thead>\n",
       "  <tbody>\n",
       "    <tr>\n",
       "      <th>0</th>\n",
       "      <td>789019</td>\n",
       "      <td>MICROSOFT CORP</td>\n",
       "      <td>operating</td>\n",
       "      <td>7372</td>\n",
       "      <td>Services-Prepackaged Software</td>\n",
       "      <td>[MSFT]</td>\n",
       "      <td>[Nasdaq]</td>\n",
       "      <td>Large accelerated filer</td>\n",
       "      <td>425-882-8080</td>\n",
       "      <td>ONE MICROSOFT WAY REDMOND WA 98052-6399</td>\n",
       "      <td>[0000950170-23-035122, [[10_K_MSFT_0000950170-...</td>\n",
       "    </tr>\n",
       "    <tr>\n",
       "      <th>1</th>\n",
       "      <td>320193</td>\n",
       "      <td>Apple Inc.</td>\n",
       "      <td>operating</td>\n",
       "      <td>3571</td>\n",
       "      <td>Electronic Computers</td>\n",
       "      <td>[AAPL]</td>\n",
       "      <td>[Nasdaq]</td>\n",
       "      <td>Large accelerated filer</td>\n",
       "      <td>(408) 996-1010</td>\n",
       "      <td>ONE APPLE PARK WAY CUPERTINO CA 95014</td>\n",
       "      <td>[0000320193-23-000106, [[10_K_AAPL_0000320193-...</td>\n",
       "    </tr>\n",
       "    <tr>\n",
       "      <th>2</th>\n",
       "      <td>1045810</td>\n",
       "      <td>NVIDIA CORP</td>\n",
       "      <td>operating</td>\n",
       "      <td>3674</td>\n",
       "      <td>Semiconductors &amp; Related Devices</td>\n",
       "      <td>[NVDA]</td>\n",
       "      <td>[Nasdaq]</td>\n",
       "      <td>Large accelerated filer</td>\n",
       "      <td>408-486-2000</td>\n",
       "      <td>2788 SAN TOMAS EXPRESSWAY SANTA CLARA CA 95051</td>\n",
       "      <td>[0001045810-24-000029, [[10_K_NVDA_0001045810-...</td>\n",
       "    </tr>\n",
       "  </tbody>\n",
       "</table>\n",
       "</div>"
      ],
      "text/plain": [
       "       cik            name entityType   sic                    sicDescription  \\\n",
       "0   789019  MICROSOFT CORP  operating  7372     Services-Prepackaged Software   \n",
       "1   320193      Apple Inc.  operating  3571              Electronic Computers   \n",
       "2  1045810     NVIDIA CORP  operating  3674  Semiconductors & Related Devices   \n",
       "\n",
       "  tickers exchanges                 category           phone  \\\n",
       "0  [MSFT]  [Nasdaq]  Large accelerated filer    425-882-8080   \n",
       "1  [AAPL]  [Nasdaq]  Large accelerated filer  (408) 996-1010   \n",
       "2  [NVDA]  [Nasdaq]  Large accelerated filer    408-486-2000   \n",
       "\n",
       "                                          address  \\\n",
       "0         ONE MICROSOFT WAY REDMOND WA 98052-6399   \n",
       "1           ONE APPLE PARK WAY CUPERTINO CA 95014   \n",
       "2  2788 SAN TOMAS EXPRESSWAY SANTA CLARA CA 95051   \n",
       "\n",
       "                                              10-K-1  \n",
       "0  [0000950170-23-035122, [[10_K_MSFT_0000950170-...  \n",
       "1  [0000320193-23-000106, [[10_K_AAPL_0000320193-...  \n",
       "2  [0001045810-24-000029, [[10_K_NVDA_0001045810-...  "
      ]
     },
     "execution_count": 3,
     "metadata": {},
     "output_type": "execute_result"
    }
   ],
   "source": [
    "# import getFinancialInfo3\n",
    "\n",
    "# com_list = pd.read_csv('ticker_select_test.txt', sep='\\t',names=['symbol', 'cik'])\n",
    "# data = getFinancialInfo_3.get_data(com_list,True)\n",
    "# data"
   ]
  },
  {
   "cell_type": "code",
   "execution_count": null,
   "id": "4ddb9095-057c-49d3-bcfa-c815dd2e9081",
   "metadata": {},
   "outputs": [],
   "source": [
    "# pip install sec-api\n",
    "# from sec_api import ExtractorApi\n",
    "# import multiprocessing\n",
    "\n",
    "# API_KEY = =os.getenv(\"SEC_API\")\n",
    "\n",
    "# extractorApi = ExtractorApi(API_KEY)\n",
    "\n",
    "# def extract_items_10k(filing_url):\n",
    "#   items = [\"1\", \"1A\", \"7\",\n",
    "#            \"7A\"]\n",
    "#   filing_name = os.path.basename(filing_url)\n",
    "\n",
    "#   for item in items:\n",
    "#     print(\"item:\", item, \"url\", filing_url)\n",
    "\n",
    "#     try:\n",
    "#       section_text = extractorApi.get_section(filing_url=filing_url,\n",
    "#                                               section=item,\n",
    "#                                               return_type=\"text\")\n",
    "\n",
    "#       # do something with section_text. for example, save to disk, in a database\n",
    "#       # or perform analytics\n",
    "#       # IMPORTANT: you don't want to hold a large number of sections in memory\n",
    "#       # and add sections to a list. otherwise you end up with out-of-memory issues.\n",
    "#       # instead make sure to let the garbage collection release memory frequently.\n",
    "\n",
    "#       # Create a new directory for the current filing if it doesn't exist\n",
    "#       if not os.path.exists(filing_name):\n",
    "#         os.makedirs(filing_name)\n",
    "\n",
    "#       # Save the extracted text to a file\n",
    "#       with open(f\"{filing_name}/{item}.txt\", \"w\") as f:\n",
    "#         f.write(section_text)\n",
    "#     except Exception as e:\n",
    "#       print(e)\n",
    "\n",
    "# urls_10k = [\"https://www.sec.gov/Archives/edgar/data/789019/000095017023035122/msft-20230630.htm\"]\n",
    "\n",
    "# # represents the number of processes to run in parallel.\n",
    "# # if you perform a CPU-light task such as saving a section to your local disk,\n",
    "# # you might want to set the number of processes slighly higher\n",
    "# # than number of CPU cores. if you perform CPU-heavy tasks, set number_of_processes\n",
    "# # to the actual number of CPU cores.\n",
    "# number_of_processes = 2\n",
    "\n",
    "# with multiprocessing.Pool(number_of_processes) as pool:\n",
    "#   pool.map(extract_items_10k, urls_10k)"
   ]
  },
  {
   "cell_type": "markdown",
   "id": "e0f9df2a",
   "metadata": {},
   "source": [
    "## Code ##"
   ]
  },
  {
   "cell_type": "code",
   "execution_count": 21,
   "id": "eeefec49-4901-4385-8244-b4d72a5e548f",
   "metadata": {
    "tags": []
   },
   "outputs": [],
   "source": [
    "\n",
    "def extract_entities_relationships(folder):\n",
    "    \n",
    "    files = glob.glob(f'./sec_10K_data/{folder}/*.txt')\n",
    "    start = time.perf_counter()  # Assign a default value to the start variable\n",
    "    print(f\"Running pipeline for {len(files)} files in {folder} folder\")\n",
    "\n",
    "    # Iterate over the list of file paths and print each one\n",
    "    for file_path in files:\n",
    "        print(f\"Extracting entities and relationships for: {str(file_path)}\")\n",
    "    \n",
    "        # Load the text file\n",
    "        #loader = TextLoader(str(txt_path))\n",
    "        loader = TextLoader(str(file_path), encoding='utf-8')\n",
    "        documents = loader.load()\n",
    "        # print(documents)\n",
    "       \n",
    "        # Ingest Parent-Child node pairs\n",
    "        parent_splitter = TokenTextSplitter(chunk_size=512*5, chunk_overlap=24)\n",
    "        child_splitter = TokenTextSplitter(chunk_size=100*5, chunk_overlap=24)\n",
    "        parent_documents = parent_splitter.split_documents(documents)\n",
    "        \n",
    "        for i, parent in enumerate(parent_documents):\n",
    "            child_documents = child_splitter.split_documents([parent])\n",
    "            params = {\n",
    "                \"parent_text\": parent.page_content,\n",
    "                \"parent_id\": i,\n",
    "                \"parent_embedding\": embeddings.embed_query(parent.page_content),\n",
    "                \"children\": [\n",
    "                    {\n",
    "                        \"text\": c.page_content,\n",
    "                        \"id\": f\"{i}-{ic}\",\n",
    "                        \"embedding\": embeddings.embed_query(c.page_content),\n",
    "                    }\n",
    "                    for ic, c in enumerate(child_documents)\n",
    "                ],\n",
    "            }\n",
    "            # Ingest data\n",
    "            graph.query(\n",
    "                \"\"\"\n",
    "            MERGE (p:Parent {id: $parent_id})\n",
    "            SET p.text = $parent_text\n",
    "            WITH p\n",
    "            CALL db.create.setVectorProperty(p, 'embedding', $parent_embedding)\n",
    "            YIELD node\n",
    "            WITH p \n",
    "            UNWIND $children AS child\n",
    "            MERGE (c:Child {id: child.id})\n",
    "            SET c.text = child.text\n",
    "            MERGE (c)<-[:HAS_CHILD]-(p)\n",
    "            WITH c, child\n",
    "            CALL db.create.setVectorProperty(c, 'embedding', child.embedding)\n",
    "            YIELD node\n",
    "            RETURN count(*)\n",
    "            \"\"\",\n",
    "                params,\n",
    "            )\n",
    "            # Create vector index for child\n",
    "            try:\n",
    "                graph.query(\n",
    "                    \"CALL db.index.vector.createNodeIndex('parent_document', \"\n",
    "                    \"'Child', 'embedding', $dimension, 'cosine')\",\n",
    "                    {\"dimension\": embedding_dimension},\n",
    "                )\n",
    "            except ClientError:  # already exists\n",
    "                pass\n",
    "            # Create vector index for parents\n",
    "            try:\n",
    "                graph.query(\n",
    "                    \"CALL db.index.vector.createNodeIndex('typical_rag', \"\n",
    "                    \"'Parent', 'embedding', $dimension, 'cosine')\",\n",
    "                    {\"dimension\": embedding_dimension},\n",
    "                )\n",
    "            except ClientError:  # already exists\n",
    "                pass\n",
    "\n",
    "        \n",
    "        \n",
    "        for i, parent in enumerate(parent_documents):\n",
    "\n",
    "            questions_data = question_chain.invoke(parent.page_content)\n",
    "            cleaned_questions_list = clean_questions_data(questions_data) \n",
    "            # print(cleaned_questions_list)\n",
    "            if 'questions' in questions_data:\n",
    "                questions_list = questions_data['questions']  # Access the 'questions' list\n",
    "                params = {\n",
    "                    \"parent_id\": i,\n",
    "                    \"questions\": []\n",
    "                }\n",
    "\n",
    "            for iq, q in enumerate(cleaned_questions_list):  # Use the cleaned questions list\n",
    "                if isinstance(q, dict) and 'question' in q:\n",
    "                    try:\n",
    "                        question_text = q['question']\n",
    "                        embedding = embeddings.embed_query(question_text)\n",
    "                        params[\"questions\"].append({\"text\": question_text, \"id\": f\"{i}-{iq}\", \"embedding\": embedding})\n",
    "                    except Exception as e:\n",
    "                        print(f\"Error embedding question {q}: {e}\")\n",
    "                else:\n",
    "                    print(f\"Skipping invalid question entry: {q}\")\n",
    "\n",
    "                sleep(5)\n",
    "                graph.query(\n",
    "                    \"\"\"\n",
    "                MERGE (p:Parent {id: $parent_id})\n",
    "                WITH p\n",
    "                UNWIND $questions AS question\n",
    "                CREATE (q:Question {id: question.id})\n",
    "                SET q.text = question.text\n",
    "                MERGE (q)<-[:HAS_QUESTION]-(p)\n",
    "                WITH q, question\n",
    "                CALL db.create.setVectorProperty(q, 'embedding', question.embedding)\n",
    "                YIELD node\n",
    "                RETURN count(*)\n",
    "                \"\"\",\n",
    "                    params,\n",
    "                )\n",
    "                # Create vector index\n",
    "                try:\n",
    "                    graph.query(\n",
    "                        \"CALL db.index.vector.createNodeIndex('hypothetical_questions', \"\n",
    "                        \"'Question', 'embedding', $dimension, 'cosine')\",\n",
    "                        {\"dimension\": embedding_dimension},\n",
    "                    )\n",
    "                except ClientError:  # already exists\n",
    "                    pass\n",
    "                \n",
    "        for i, parent in enumerate(parent_documents):\n",
    "            summary = summary_chain.invoke({\"question\": parent.page_content}).content\n",
    "            params = {\n",
    "                \"parent_id\": i,\n",
    "                \"summary\": summary,\n",
    "                \"embedding\": embeddings.embed_query(summary),\n",
    "            }\n",
    "            graph.query(\n",
    "                \"\"\"\n",
    "            MERGE (p:Parent {id: $parent_id})\n",
    "            MERGE (p)-[:HAS_SUMMARY]->(s:Summary)\n",
    "            SET s.text = $summary\n",
    "            WITH s\n",
    "            CALL db.create.setVectorProperty(s, 'embedding', $embedding)\n",
    "            YIELD node\n",
    "            RETURN count(*)\n",
    "            \"\"\",\n",
    "                params,\n",
    "            )\n",
    "            # Create vector index\n",
    "            try:\n",
    "                graph.query(\n",
    "                    \"CALL db.index.vector.createNodeIndex('summary', \"\n",
    "                    \"'Summary', 'embedding', $dimension, 'cosine')\",\n",
    "                    {\"dimension\": embedding_dimension},\n",
    "                )\n",
    "            except ClientError:  # already exists\n",
    "                pass\n",
    "            \n",
    "    end = time.perf_counter()\n",
    "    print(f\"Pipeline completed in {end-start} seconds\")\n",
    "    \n",
    "def ingestion_pipeline(folders):\n",
    "\n",
    "     for folder in folders:\n",
    "        extract_entities_relationships(folder)\n"
   ]
  },
  {
   "cell_type": "markdown",
   "id": "f8c0e7bc",
   "metadata": {},
   "source": [
    "## Test Data Ingestion ##"
   ]
  },
  {
   "cell_type": "code",
   "execution_count": 25,
   "id": "0c4349ee-0968-42c7-b355-4bc46da87cb8",
   "metadata": {
    "tags": []
   },
   "outputs": [
    {
     "data": {
      "text/plain": [
       "[]"
      ]
     },
     "execution_count": 25,
     "metadata": {},
     "output_type": "execute_result"
    }
   ],
   "source": [
    "graph.query(\"\"\"\n",
    "  SHOW VECTOR INDEXES\n",
    "  \"\"\"\n",
    ")"
   ]
  },
  {
   "cell_type": "code",
   "execution_count": 26,
   "id": "bf63ecaf",
   "metadata": {
    "tags": []
   },
   "outputs": [
    {
     "name": "stdout",
     "output_type": "stream",
     "text": [
      "Running pipeline for 4 files in aapl-20230930 folder\n",
      "Extracting entities and relationships for: ./sec_10K_data/aapl-20230930\\1.txt\n",
      "Extracting entities and relationships for: ./sec_10K_data/aapl-20230930\\1A.txt\n",
      "Extracting entities and relationships for: ./sec_10K_data/aapl-20230930\\7.txt\n",
      "Extracting entities and relationships for: ./sec_10K_data/aapl-20230930\\7A.txt\n",
      "Pipeline completed in 509.1743317999935 seconds\n"
     ]
    }
   ],
   "source": [
    "folders = [\"aapl-20230930\"]\n",
    "ingestion_pipeline(folders)"
   ]
  },
  {
   "cell_type": "markdown",
   "id": "93374647-a1dd-463b-b933-8219c153ea65",
   "metadata": {},
   "source": [
    "## Test RAG ##"
   ]
  },
  {
   "cell_type": "code",
   "execution_count": 27,
   "id": "7a42ed9b-b438-4478-b3f3-f091f9525eb5",
   "metadata": {
    "tags": []
   },
   "outputs": [],
   "source": [
    "from langchain_community.vectorstores import Neo4jVector\n",
    "\n",
    "\n",
    "# Typical RAG retriever\n",
    "\n",
    "typical_rag = Neo4jVector.from_existing_index(\n",
    "    embeddings, index_name=\"typical_rag\"\n",
    ")\n",
    "\n",
    "# Parent retriever\n",
    "\n",
    "parent_query = \"\"\"\n",
    "MATCH (node)<-[:HAS_CHILD]-(parent)\n",
    "WITH parent, max(score) AS score // deduplicate parents\n",
    "RETURN parent.text AS text, score, {} AS metadata LIMIT 1\n",
    "\"\"\"\n",
    "\n",
    "parent_vectorstore = Neo4jVector.from_existing_index(\n",
    "    embeddings,\n",
    "    index_name=\"parent_document\",\n",
    "    retrieval_query=parent_query,\n",
    ")\n",
    "\n",
    "# Hypothetic questions retriever\n",
    "\n",
    "hypothetic_question_query = \"\"\"\n",
    "MATCH (node)<-[:HAS_QUESTION]-(parent)\n",
    "WITH parent, max(score) AS score // deduplicate parents\n",
    "RETURN parent.text AS text, score, {} AS metadata\n",
    "\"\"\"\n",
    "\n",
    "hypothetic_question_vectorstore = Neo4jVector.from_existing_index(\n",
    "    embeddings,\n",
    "    index_name=\"hypothetical_questions\",\n",
    "    retrieval_query=hypothetic_question_query,\n",
    ")\n",
    "# Summary retriever\n",
    "\n",
    "summary_query = \"\"\"\n",
    "MATCH (node)<-[:HAS_SUMMARY]-(parent)\n",
    "WITH parent, max(score) AS score // deduplicate parents\n",
    "RETURN parent.text AS text, score, {} AS metadata\n",
    "\"\"\"\n",
    "\n",
    "summary_vectorstore = Neo4jVector.from_existing_index(\n",
    "    embeddings,\n",
    "    index_name=\"summary\",\n",
    "    retrieval_query=summary_query,\n",
    ")"
   ]
  },
  {
   "cell_type": "code",
   "execution_count": 28,
   "id": "9dc5bdd3-be56-4927-a075-4a3d62a5423e",
   "metadata": {
    "tags": []
   },
   "outputs": [
    {
     "name": "stdout",
     "output_type": "stream",
     "text": [
      " of tax laws may be uncertain, require significant judgment and be subject to differing interpretations. \n",
      "\n",
      "The Company is also subject to the examination of its tax returns and other tax matters by the U.S. Internal Revenue Service and other tax authorities and governmental bodies. The Company regularly assesses the likelihood of an adverse outcome resulting from these examinations to determine the adequacy of its provision for taxes. There can be no assurance as to the outcome of these examinations. If the Company&#8217;s effective tax rates were to increase, or if the ultimate determination of the Company&#8217;s taxes owed is for an amount in excess of amounts previously accrued, the Company&#8217;s business, results of operations and financial condition could be materially adversely affected. \n",
      "\n",
      "General Risks \n",
      "\n",
      "The price of the Company&#8217;s stock is subject to volatility. \n",
      "\n",
      "The Company&#8217;s stock has experienced substantial price volatility in the past and may continue to do so in the future. Additionally, the Company, the technology industry and the stock market as a whole have, from time to time, experienced extreme stock price and volume fluctuations that have affected stock prices in ways that may have been unrelated to these companies&#8217; operating performance. Price volatility may cause the average price at which the Company repurchases its stock in a given period to exceed the stock&#8217;s price at a given point in time. The Company believes the price of its stock should reflect expectations of future growth and profitability. The Company also believes the price of its stock should reflect expectations that its cash dividend will continue at current levels or grow, and that its current share repurchase program will be fully consummated. Future dividends are subject to declaration by the Company&#8217;s Board of Directors, and the Company&#8217;s share repurchase program does not obligate it to acquire any specific number of shares. If the Company fails to meet expectations related to future growth, profitability, dividends, share repurchases or other market expectations, the price of the Company&#8217;s stock may decline significantly, which could have a material adverse impact on investor confidence and employee retention. \n",
      "\n",
      "\n"
     ]
    }
   ],
   "source": [
    "response = typical_rag.similarity_search(\n",
    "    \"What are some risk factors that can affect Appel's stock price?\"\n",
    ")\n",
    "print(response[0].page_content)"
   ]
  },
  {
   "cell_type": "code",
   "execution_count": 29,
   "id": "d8e83525-d45e-428b-8a8e-d2dc2e6a6c90",
   "metadata": {
    "tags": []
   },
   "outputs": [
    {
     "data": {
      "text/plain": [
       "{'query': \"What are some risk factors that can affect Appel's stock price?\",\n",
       " 'result': \"There are several risk factors that can affect Apple's stock price, including:\\n\\n1. Volatility in the stock market and the technology industry as a whole.\\n2. Uncertainty and potential adverse outcomes resulting from tax laws and examinations by tax authorities.\\n3. Economic risk from interest rates and foreign exchange rates.\\n4. Legal and regulatory compliance risks, including unfavorable results of legal proceedings or government investigations.\\n5. Investment in new business strategies and acquisitions that could disrupt the Company's ongoing business and present risks not originally contemplated.\\n6. Risks associated with the Company's retail stores, including managing costs associated with retail store construction and operation, managing relationships with existing retail partners, and obtaining and renewing leases in quality retail locations at a reasonable cost.\\n7. Risks associated with information technology system failures and network disruptions, including preventing access to the Company's online services, interfering with customer transactions, or impeding the manufacturing and shipping of the Company's products.\\n8. Losses or unauthorized access to or releases of confidential information, including personal information, which could subject the Company to significant reputational, financial, legal, and operational consequences.\\n9. Dependence on the performance of carriers, wholesalers, retailers, and other resellers.\\n10. Failure to obtain or create digital content that appeals to the Company's customers, or to make such content available on commercially reasonable terms.\"}"
      ]
     },
     "execution_count": 29,
     "metadata": {},
     "output_type": "execute_result"
    }
   ],
   "source": [
    "from langchain.chains import RetrievalQA\n",
    "from langchain.chat_models import AzureChatOpenAI\n",
    "\n",
    "vector_typrag = RetrievalQA.from_chain_type(\n",
    "    llm=llm,\n",
    "    chain_type=\"stuff\",\n",
    "    retriever=typical_rag.as_retriever()\n",
    ")\n",
    "\n",
    "vector_parent = RetrievalQA.from_chain_type(\n",
    "    llm=llm,\n",
    "    chain_type=\"stuff\",\n",
    "    retriever=parent_vectorstore.as_retriever()\n",
    ")\n",
    "\n",
    "vector_hypquestion = RetrievalQA.from_chain_type(\n",
    "    llm=llm,\n",
    "    chain_type=\"stuff\",\n",
    "    retriever=hypothetic_question_vectorstore.as_retriever()\n",
    ")\n",
    "\n",
    "vector_summary = RetrievalQA.from_chain_type(\n",
    "    llm=llm,\n",
    "    chain_type=\"stuff\",\n",
    "    retriever=summary_vectorstore.as_retriever()\n",
    ")\n",
    "\n",
    "vector_typrag.invoke(\n",
    "     \"What are some risk factors that can affect Appel's stock price?\"\n",
    ")"
   ]
  },
  {
   "cell_type": "code",
   "execution_count": 31,
   "id": "13952441-ceba-4b8e-917b-c206937abc8d",
   "metadata": {
    "tags": []
   },
   "outputs": [
    {
     "data": {
      "text/plain": [
       "{'query': \"What are some risk factors that can affect Appel's stock price?\",\n",
       " 'result': \"The given context does not provide information about all the risk factors that can affect Apple's stock price. However, the context does mention two types of risks that the company is exposed to: interest rate risk and foreign exchange rate risk. The company uses various strategies to manage these risks, but they may still impact the company's consolidated financial statements. Increases in interest rates will negatively affect the fair value of the company's investment portfolio and increase the interest expense on the company's term debt. Changes in exchange rates, and in particular a strengthening of the U.S. dollar, will negatively affect the company's net sales and gross margins as expressed in U.S. dollars. Fluctuations in exchange rates may also affect the fair values of certain of the company's assets and liabilities.\"}"
      ]
     },
     "execution_count": 31,
     "metadata": {},
     "output_type": "execute_result"
    }
   ],
   "source": [
    "vector_hypquestion.invoke(\n",
    "     \"What are some risk factors that can affect Appel's stock price?\"\n",
    ")"
   ]
  },
  {
   "cell_type": "code",
   "execution_count": 32,
   "id": "1b0c3708-52ad-4504-b06f-97deabe7c9d0",
   "metadata": {
    "tags": []
   },
   "outputs": [
    {
     "data": {
      "text/plain": [
       "{'query': \"What are some risk factors that can affect Appel's stock price?\",\n",
       " 'result': \"Some risk factors that can affect Apple's stock price include volatility in the stock market, extreme stock price and volume fluctuations, uncertainty and differing interpretations of tax laws, and the examination of the company's tax returns by tax authorities. Additionally, if the company fails to meet expectations related to future growth, profitability, dividends, share repurchases, or other market expectations, the price of the company's stock may decline significantly, which could have a material adverse impact on investor confidence and employee retention.\"}"
      ]
     },
     "execution_count": 32,
     "metadata": {},
     "output_type": "execute_result"
    }
   ],
   "source": [
    "vector_parent.invoke(\n",
    "     \"What are some risk factors that can affect Appel's stock price?\"\n",
    ")"
   ]
  },
  {
   "cell_type": "code",
   "execution_count": 33,
   "id": "1c06d458-d0f0-4b04-8ba1-175df94d08bc",
   "metadata": {
    "tags": []
   },
   "outputs": [
    {
     "data": {
      "text/plain": [
       "{'query': \"What are some risk factors that can affect Appel's stock price?\",\n",
       " 'result': \"There are several risk factors that can affect Apple's stock price, including:\\n\\n1. Fluctuations in interest rates and foreign exchange rates\\n2. Changes in consumer demand for Apple's products and services\\n3. Intense competition in the technology industry\\n4. Changes in laws and regulations worldwide, including antitrust, privacy, and data security laws\\n5. Litigation and government investigations, which can result in legal proceedings and claims against the company\\n6. Investment in new business strategies and acquisitions, which could disrupt the company's ongoing business and present risks not originally contemplated\\n7. Financial risks, including fluctuations in net sales and profit margins, and exposure to credit risk and fluctuations in the values of its investment portfolio\\n8. Environmental, social, and governance considerations and related reporting obligations, which expose the company to potential liabilities, increased costs, reputational harm, and other adverse effects on the company's business. \\n\\nIt's important to note that these risk factors are not exhaustive and that there may be other factors that could affect Apple's stock price.\"}"
      ]
     },
     "execution_count": 33,
     "metadata": {},
     "output_type": "execute_result"
    }
   ],
   "source": [
    "vector_summary.invoke(\n",
    "     \"What are some risk factors that can affect Appel's stock price?\"\n",
    ")"
   ]
  },
  {
   "cell_type": "markdown",
   "id": "3b09c268-b085-441b-842d-11dbf3f36db9",
   "metadata": {},
   "source": [
    "##RAG Agent Tool (combination of retrievers)"
   ]
  },
  {
   "cell_type": "code",
   "execution_count": null,
   "id": "a150e3e2-9ecd-43e8-867e-19bcb1eeeda5",
   "metadata": {
    "tags": []
   },
   "outputs": [],
   "source": [
    "from langchain.chains import GraphCypherQAChain\n",
    "from langchain.agents import initialize_agent, Tool\n",
    "from langchain.agents import AgentType\n",
    "\n",
    "\n",
    "cypher_chain = GraphCypherQAChain.from_llm(\n",
    "    cypher_llm = AzureChatOpenAI(azure_deployment='Chat_gpt_4',api_version=\"2023-05-15\", temperature=0),\n",
    "    qa_llm = AzureChatOpenAI(azure_deployment='chat_gtp_35',api_version=\"2023-05-15\", temperature=0), graph=graph, verbose=True,\n",
    ")\n",
    "\n",
    "tools = [\n",
    "    Tool(\n",
    "        name=\"Tasks\",\n",
    "        func=vector_typrag.run,\n",
    "        description=\"\"\"Useful to answer most of the questions.\n",
    "        Not useful for questions that involve aggregation.\n",
    "        Use full question as input.\n",
    "        \"\"\",\n",
    "        \n",
    "    ),\n",
    "    Tool(\n",
    "        name=\"Tasks\",\n",
    "        func=vector_hypquestion.run,\n",
    "        description=\"\"\"Useful to answer questions on dates and relationship between different companies.\n",
    "        Not useful for questions that involve aggregation.\n",
    "        Use full question as input.\n",
    "        \"\"\",        \n",
    "        \n",
    "    ),\n",
    "    # Tool(\n",
    "    #     name=\"Graph\",\n",
    "    #     func=cypher_chain.run,\n",
    "    #     description=\"\"\" Only useful for AGGREGATION questions.\n",
    "    #     Use full question as input.\n",
    "    #     \"\"\",\n",
    "    # ),\n",
    "]\n",
    "\n",
    "mrkl = initialize_agent(\n",
    "    tools, \n",
    "    AzureChatOpenAI(azure_deployment='Chat_gpt_4',api_version=\"2023-05-15\", temperature=0),\n",
    "    agent=AgentType.OPENAI_FUNCTIONS, verbose=True\n",
    ")\n"
   ]
  },
  {
   "cell_type": "code",
   "execution_count": null,
   "id": "a92dbc1a-36f5-4926-9ba5-157b5b5fc78e",
   "metadata": {
    "tags": []
   },
   "outputs": [],
   "source": [
    "graph.refresh_schema()\n",
    "response = mrkl.invoke(\"What are some risk factors that can affect Appel's stock price?\")\n",
    "print(response)"
   ]
  }
 ],
 "metadata": {
  "kernelspec": {
   "display_name": "Python 3 (ipykernel)",
   "language": "python",
   "name": "python3"
  },
  "language_info": {
   "codemirror_mode": {
    "name": "ipython",
    "version": 3
   },
   "file_extension": ".py",
   "mimetype": "text/x-python",
   "name": "python",
   "nbconvert_exporter": "python",
   "pygments_lexer": "ipython3",
   "version": "3.11.5"
  }
 },
 "nbformat": 4,
 "nbformat_minor": 5
}
