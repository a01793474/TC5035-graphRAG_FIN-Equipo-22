{
 "cells": [
  {
   "cell_type": "markdown",
   "id": "745ebbc2",
   "metadata": {},
   "source": [
    "# Generate graphRAG for Financial Data #"
   ]
  },
  {
   "cell_type": "markdown",
   "id": "b89d8938",
   "metadata": {},
   "source": [
    "## Imports ##"
   ]
  },
  {
   "cell_type": "code",
   "execution_count": 1,
   "id": "a5fd823d-c64e-4a2d-a01f-67e52191045e",
   "metadata": {
    "tags": []
   },
   "outputs": [],
   "source": [
    "import os\n",
    "import glob\n",
    "import time\n",
    "import pandas as pd\n",
    "from dotenv import load_dotenv\n",
    "from pathlib import Path\n",
    "from typing import List\n",
    "\n",
    "from langchain_community.document_loaders import TextLoader\n",
    "from langchain_community.graphs import Neo4jGraph\n",
    "from langchain_core.prompts import ChatPromptTemplate\n",
    "from langchain_core.pydantic_v1 import BaseModel, Field\n",
    "from langchain_openai import ChatOpenAI, OpenAIEmbeddings, AzureOpenAIEmbeddings, AzureChatOpenAI\n",
    "from langchain_text_splitters import TokenTextSplitter\n",
    "from neo4j.exceptions import ClientError\n",
    "\n",
    "from time import sleep\n",
    "import hashlib\n",
    "\n"
   ]
  },
  {
   "cell_type": "markdown",
   "id": "94281a6d-9bd8-46bc-896b-a96961f004f7",
   "metadata": {
    "tags": []
   },
   "source": [
    "## Initializations ##"
   ]
  },
  {
   "cell_type": "code",
   "execution_count": 2,
   "id": "f9a98868-d5ea-45e7-b66c-7f6e91ae0f46",
   "metadata": {
    "tags": []
   },
   "outputs": [],
   "source": [
    "# Load from environment\n",
    "load_dotenv('.env', override=True)\n",
    "\n",
    "AZURE_OPENAI_ENDPOINT=os.getenv(\"AZURE_OPENAI_ENDPOINT\")\n",
    "AZURE_OPENAI_API_KEY=os.getenv(\"AZURE_OPENAI_API_KEY\"), \n",
    "\n",
    "\n",
    "\n",
    "# Embeddings & LLM models\n",
    "embedding_dimension = 1536\n",
    "embeddings = AzureOpenAIEmbeddings(azure_deployment=\"text-embedding-3\",api_version=\"2024-02-01\",dimensions=embedding_dimension)\n",
    "\n",
    "llm = AzureChatOpenAI(azure_deployment='chat_gtp_35',api_version=\"2023-05-15\", temperature=0)\n",
    "\n",
    "# Get Neo4j credentials from environment variables\n",
    "NEO4J_URI=os.getenv(\"NEO4J_URI\")\n",
    "NEO4J_USERNAME=os.getenv(\"NEO4J_USERNAME\")\n",
    "NEO4J_PASSWORD=os.getenv(\"NEO4J_PASSWORD\")\n",
    "\n",
    "graph = Neo4jGraph(url=NEO4J_URI,username=NEO4J_USERNAME,password=NEO4J_PASSWORD)\n",
    "sleep(2)\n",
    "\n",
    "#Clear KG from previous sessions\n",
    "# graph.refresh_schema()\n",
    "# graph.query(\"MATCH (n) DETACH DELETE n\")\n",
    "# graph.query(\"DROP INDEX hypothetical_questions IF EXISTS\")\n",
    "# graph.query(\"DROP INDEX parent_document IF EXISTS\")\n",
    "# graph.query(\"DROP INDEX summary IF EXISTS\")\n",
    "# graph.query(\"DROP INDEX typical_rag IF EXISTS\")\n",
    "# graph.query(\"\"\"\n",
    "#   SHOW VECTOR INDEXES\n",
    "#   \"\"\"\n",
    "# )\n"
   ]
  },
  {
   "cell_type": "markdown",
   "id": "84b6f8d5",
   "metadata": {},
   "source": [
    "## Data ##"
   ]
  },
  {
   "cell_type": "code",
   "execution_count": 3,
   "id": "4ddb9095-057c-49d3-bcfa-c815dd2e9081",
   "metadata": {},
   "outputs": [],
   "source": [
    "# # # pip install sec-api\n",
    "# # # from sec_api import ExtractorApi\n",
    "\n",
    "\n",
    "# API_KEY=os.getenv(\"SEC_API\")\n",
    "\n",
    "# extractorApi = ExtractorApi(API_KEY)\n",
    "\n",
    "# def extract_items_10k(filing_url):\n",
    "    \n",
    "#     items = [\"1\", \"1A\", \"7\",\n",
    "#            \"7A\"]\n",
    "#     filing_name = os.path.basename(filing_url)\n",
    "\n",
    "#     for item in items:\n",
    "#         print(\"item:\", item, \"url\", filing_url)\n",
    "\n",
    "#         try:\n",
    "#             section_text = extractorApi.get_section(filing_url=filing_url,\n",
    "#                                               section=item,\n",
    "#                                               return_type=\"text\")\n",
    "\n",
    "#         # do something with section_text. for example, save to disk, in a database\n",
    "#         # or perform analytics\n",
    "#         # IMPORTANT: you don't want to hold a large number of sections in memory\n",
    "#         # and add sections to a list. otherwise you end up with out-of-memory issues.\n",
    "#         # instead make sure to let the garbage collection release memory frequently.\n",
    "\n",
    "#         # Create a new directory for the current filing if it doesn't exist\n",
    "#             if not os.path.exists(filing_name):\n",
    "#                 os.makedirs(filing_name)\n",
    "\n",
    "#             # Save the extracted text to a file\n",
    "#             with open(f\"{filing_name}/{item}.txt\", \"w\") as f:\n",
    "#                 f.write(section_text)\n",
    "#         except Exception as e:\n",
    "#             print(e)\n",
    "\n",
    "# urls_10k = [\"https://www.sec.gov/Archives/edgar/data/789019/000156459022026876/msft-10k_20220630.htm\"]\n",
    "\n"
   ]
  },
  {
   "cell_type": "code",
   "execution_count": 4,
   "id": "09b8de1f-bddb-4eaa-b78f-a6695058cd3b",
   "metadata": {
    "tags": []
   },
   "outputs": [],
   "source": [
    "    # for url in urls_10k:\n",
    "    #     extract_items_10k(url)"
   ]
  },
  {
   "cell_type": "markdown",
   "id": "e0f9df2a",
   "metadata": {},
   "source": [
    "## Data Ingestion Code ##"
   ]
  },
  {
   "cell_type": "code",
   "execution_count": 29,
   "id": "f838d8ea-3b26-4433-b83f-7ad2ce0e3d39",
   "metadata": {
    "tags": []
   },
   "outputs": [],
   "source": [
    "\n",
    "def extract_entities_relationships(folder):\n",
    "    # Fetch all text files in the specified folder\n",
    "    files = glob.glob(f'./sec_10K_data/{folder}/*.txt')\n",
    "    start = time.perf_counter()\n",
    "    print(f\"Running pipeline for {len(files)} files in {folder} folder\")\n",
    "\n",
    "    # Generate a unique ID for the folder using SHA-256 hash\n",
    "    folder_id = f\"folder-{hashlib.sha256(folder.encode()).hexdigest()}\"\n",
    "    \n",
    "    # Create or merge a Folder node in the graph with the generated ID\n",
    "    graph.query(\n",
    "        \"\"\"\n",
    "        MERGE (f:Folder {id: $folder_id})\n",
    "        ON CREATE SET f.name = $folder_name\n",
    "        \"\"\",\n",
    "        {\"folder_id\": folder_id, \"folder_name\": folder}\n",
    "    )\n",
    "\n",
    "    folder_query = \"\"\"\n",
    "    MATCH (f:Folder {id: $folder_id})\n",
    "    RETURN coalesce(f.name, 'Unknown Folder') AS folder_name\n",
    "    \"\"\"\n",
    "    try:\n",
    "        # Retrieve the name of the folder node from the graph\n",
    "        result = graph.query(folder_query, params={\"folder_id\": folder_id})\n",
    "        if result and len(result) > 0:\n",
    "            folder_name = result[0][\"folder_name\"]\n",
    "    except Exception as e:\n",
    "        print(f\"Failed folder name id retrieve: {e}\")\n",
    "        return None\n",
    "\n",
    "    # Generate a unique ID for the Company using the first four letters of the folder name\n",
    "    company_name = folder[:4]\n",
    "    company_id = f\"company-{hashlib.sha256(company_name.encode()).hexdigest()}\"\n",
    "    \n",
    "    # Create or merge a Company node in the graph with the generated ID\n",
    "    graph.query(\n",
    "        \"\"\"\n",
    "        MERGE (c:Company {id: $company_id})\n",
    "        ON CREATE SET c.name = $company_name\n",
    "        \"\"\",\n",
    "        {\"company_id\": company_id, \"company_name\": company_name}\n",
    "    )\n",
    "\n",
    "    # Link the Company node to Folder nodes whose names match the first four letters of the company node name\n",
    "    graph.query(\n",
    "        \"\"\"\n",
    "        MATCH (f:Folder)\n",
    "        WHERE f.name STARTS WITH $company_name\n",
    "        MERGE (c:Company {id: $company_id})\n",
    "        MERGE (c)-[:COMPANY]->(f)\n",
    "        \"\"\",\n",
    "        {\"company_id\": company_id, \"company_name\": company_name}\n",
    "    )\n",
    "\n",
    "     # Generate a unique ID for the Node_10 using SHA-256 hash\n",
    "    Node_10K_id = f\"KB_seed-{hashlib.sha256(folder.encode()).hexdigest()}\"\n",
    "    \n",
    "    # Create KG_SOURCE relationships between company nodes and the single SEC_10K node\n",
    "    graph.query(\n",
    "                \"\"\"\n",
    "                MATCH (c:Company)\n",
    "                MERGE (k:KG_seed {id: $Node_10K_id})\n",
    "                MERGE (k)-[:KG_SOURCE]->(c)\n",
    "                \"\"\",\n",
    "                {\"Node_10K_id\": \"SEC_10K\"},\n",
    "            )\n",
    "\n",
    "\n",
    "    for file_path in files:\n",
    "        print(f\"Extracting entities and relationships for: {str(file_path)}\")\n",
    "\n",
    "        # Load the document from the file\n",
    "        loader = TextLoader(str(file_path), encoding='utf-8')\n",
    "        documents = loader.load()\n",
    "\n",
    "        # Split the document into parent and child chunks\n",
    "        parent_splitter = TokenTextSplitter(chunk_size=512*5, chunk_overlap=24)\n",
    "        child_splitter = TokenTextSplitter(chunk_size=100*5, chunk_overlap=24)\n",
    "        parent_documents = parent_splitter.split_documents(documents)\n",
    "\n",
    "        parent_ids = []  # List to store parent IDs\n",
    "\n",
    "        for i, parent in enumerate(parent_documents):\n",
    "            # Split the parent document into child documents\n",
    "            child_documents = child_splitter.split_documents([parent])\n",
    "            file_name = os.path.basename(file_path)\n",
    "            parent_id = f\"{file_name}-{hashlib.sha256(parent.page_content.encode()).hexdigest()}\"\n",
    "            parent_ids.append(parent_id)  # Store the parent ID\n",
    "\n",
    "            params = {\n",
    "                \"parent_text\": parent.page_content,\n",
    "                \"parent_id\": parent_id,  # Use the file name and hash of the content as the ID\n",
    "                \"parent_embedding\": embeddings.embed_query(parent.page_content),\n",
    "                \"children\": [\n",
    "                    {\n",
    "                        \"text\": c.page_content,\n",
    "                        \"id\": f\"{file_name}-{hashlib.sha256(c.page_content.encode()).hexdigest()}\",  # Use the file name and hash of the content as the ID\n",
    "                        \"embedding\": embeddings.embed_query(c.page_content),\n",
    "                    }\n",
    "                    for c in child_documents\n",
    "                ],\n",
    "            }\n",
    "\n",
    "            # Ingest parent and child data into the graph\n",
    "            graph.query(\n",
    "                \"\"\"\n",
    "                MERGE (p:Parent {id: $parent_id})\n",
    "                ON CREATE SET p.text = $parent_text\n",
    "                WITH p\n",
    "                CALL db.create.setVectorProperty(p, 'embedding', $parent_embedding)\n",
    "                YIELD node\n",
    "                WITH p\n",
    "                UNWIND $children AS child\n",
    "                MERGE (c:Child {id: child.id})\n",
    "                ON CREATE SET c.text = child.text\n",
    "                MERGE (c)<-[:HAS_CHILD]-(p)\n",
    "                WITH c, child\n",
    "                CALL db.create.setVectorProperty(c, 'embedding', child.embedding)\n",
    "                YIELD node\n",
    "                RETURN count(*)\n",
    "                \"\"\",\n",
    "                params,\n",
    "            )\n",
    "\n",
    "            # Create vector index for child nodes if it doesn't exist\n",
    "            try:\n",
    "                graph.query(\n",
    "                    \"CALL db.index.vector.createNodeIndex('parent_document', \"\n",
    "                    \"'Child', 'embedding', $dimension, 'cosine')\",\n",
    "                    {\"dimension\": embedding_dimension},\n",
    "                )\n",
    "            except ClientError:  # Index already exists\n",
    "                pass\n",
    "\n",
    "            # Create vector index for parent nodes if it doesn't exist\n",
    "            try:\n",
    "                graph.query(\n",
    "                    \"CALL db.index.vector.createNodeIndex('typical_rag', \"\n",
    "                    \"'Parent', 'embedding', $dimension, 'cosine')\",\n",
    "                    {\"dimension\": embedding_dimension},\n",
    "                )\n",
    "            except ClientError:  # Index already exists\n",
    "                pass\n",
    "\n",
    "        # Create NEXT relationships between consecutive parent nodes\n",
    "        for j in range(len(parent_ids) - 1):\n",
    "            graph.query(\n",
    "                \"\"\"\n",
    "                MATCH (p1:Parent {id: $parent_id_1}), (p2:Parent {id: $parent_id_2})\n",
    "                MERGE (p1)-[:NEXT]->(p2)\n",
    "                \"\"\",\n",
    "                {\"parent_id_1\": parent_ids[j], \"parent_id_2\": parent_ids[j + 1]},\n",
    "            )\n",
    "\n",
    "        # Create GRAND_FATHER relationships between the folder and parent nodes\n",
    "        for parent_id in parent_ids:\n",
    "            graph.query(\n",
    "                \"\"\"\n",
    "                MATCH (f:Folder {id: $folder_id}), (p:Parent {id: $parent_id})\n",
    "                MERGE (p)-[:GRAND_FATHER]->(f)\n",
    "                \"\"\",\n",
    "                {\"folder_id\": folder_id, \"parent_id\": parent_id},\n",
    "            )\n",
    "    \n",
    "    end = time.perf_counter()\n",
    "    print(f\"Pipeline completed in {end-start} seconds\")    \n",
    "\n",
    "def ingestion_pipeline(folders):\n",
    "    # Run the extract_entities_relationships function for each folder in the list\n",
    "    for folder in folders:\n",
    "        extract_entities_relationships(folder)\n"
   ]
  },
  {
   "cell_type": "markdown",
   "id": "f8c0e7bc",
   "metadata": {},
   "source": [
    "## Process Data Ingestion ##"
   ]
  },
  {
   "cell_type": "code",
   "execution_count": 30,
   "id": "e4dc29de-957e-4f85-99d6-b9c89edefc6f",
   "metadata": {
    "tags": []
   },
   "outputs": [
    {
     "data": {
      "text/plain": [
       "[]"
      ]
     },
     "execution_count": 30,
     "metadata": {},
     "output_type": "execute_result"
    }
   ],
   "source": [
    "#Clear KG from previous session\n",
    "graph.refresh_schema()\n",
    "graph.query(\"MATCH (n) DETACH DELETE n\")\n",
    "graph.query(\"DROP INDEX hypothetical_questions IF EXISTS\")\n",
    "graph.query(\"DROP INDEX parent_document IF EXISTS\")\n",
    "graph.query(\"DROP INDEX summary IF EXISTS\")\n",
    "graph.query(\"DROP INDEX typical_rag IF EXISTS\")"
   ]
  },
  {
   "cell_type": "code",
   "execution_count": 31,
   "id": "bf63ecaf",
   "metadata": {
    "tags": []
   },
   "outputs": [
    {
     "name": "stdout",
     "output_type": "stream",
     "text": [
      "Running pipeline for 4 files in aapl-20220924 folder\n",
      "Extracting entities and relationships for: ./sec_10K_data/aapl-20220924\\1.txt\n",
      "Extracting entities and relationships for: ./sec_10K_data/aapl-20220924\\1A.txt\n",
      "Extracting entities and relationships for: ./sec_10K_data/aapl-20220924\\7.txt\n",
      "Extracting entities and relationships for: ./sec_10K_data/aapl-20220924\\7A.txt\n",
      "Pipeline completed in 18.480374099999608 seconds\n",
      "Running pipeline for 4 files in aapl-20230930 folder\n",
      "Extracting entities and relationships for: ./sec_10K_data/aapl-20230930\\1.txt\n",
      "Extracting entities and relationships for: ./sec_10K_data/aapl-20230930\\1A.txt\n",
      "Extracting entities and relationships for: ./sec_10K_data/aapl-20230930\\7.txt\n",
      "Extracting entities and relationships for: ./sec_10K_data/aapl-20230930\\7A.txt\n",
      "Pipeline completed in 16.342698299999938 seconds\n",
      "Running pipeline for 4 files in msft-20220630 folder\n",
      "Extracting entities and relationships for: ./sec_10K_data/msft-20220630\\1.txt\n",
      "Extracting entities and relationships for: ./sec_10K_data/msft-20220630\\1A.txt\n",
      "Extracting entities and relationships for: ./sec_10K_data/msft-20220630\\7.txt\n",
      "Extracting entities and relationships for: ./sec_10K_data/msft-20220630\\7A.txt\n",
      "Pipeline completed in 35.793668400000115 seconds\n",
      "Running pipeline for 4 files in nvda-20240128 folder\n",
      "Extracting entities and relationships for: ./sec_10K_data/nvda-20240128\\1.txt\n",
      "Extracting entities and relationships for: ./sec_10K_data/nvda-20240128\\1A.txt\n",
      "Extracting entities and relationships for: ./sec_10K_data/nvda-20240128\\7.txt\n",
      "Extracting entities and relationships for: ./sec_10K_data/nvda-20240128\\7A.txt\n",
      "Pipeline completed in 28.764155100000153 seconds\n"
     ]
    }
   ],
   "source": [
    "folders = [\"aapl-20220924\",\"aapl-20230930\",\"msft-20220630\",\"nvda-20240128\"]\n",
    "ingestion_pipeline(folders)"
   ]
  },
  {
   "cell_type": "markdown",
   "id": "93374647-a1dd-463b-b933-8219c153ea65",
   "metadata": {},
   "source": [
    "## Test RAG ##"
   ]
  },
  {
   "cell_type": "code",
   "execution_count": null,
   "id": "7a42ed9b-b438-4478-b3f3-f091f9525eb5",
   "metadata": {
    "tags": []
   },
   "outputs": [],
   "source": [
    "from langchain_community.vectorstores import Neo4jVector\n",
    "\n",
    "\n",
    "\n",
    "\n",
    "# Parent retriever\n",
    "\n",
    "parent_query = \"\"\"\n",
    "MATCH (node)<-[:HAS_CHILD]-(parent)\n",
    "WITH parent, max(score) AS score // deduplicate parents\n",
    "RETURN parent.text AS text, score, {} AS metadata LIMIT 1\n",
    "\"\"\"\n",
    "\n",
    "parent_vectorstore = Neo4jVector.from_existing_index(\n",
    "    embeddings,\n",
    "    index_name=\"parent_document\",\n",
    "    retrieval_query=parent_query,\n",
    ")\n",
    "\n"
   ]
  },
  {
   "cell_type": "code",
   "execution_count": null,
   "id": "9dc5bdd3-be56-4927-a075-4a3d62a5423e",
   "metadata": {
    "tags": []
   },
   "outputs": [],
   "source": [
    "response = typical_rag.similarity_search(\n",
    "    \"What are some risk factors that can affect Apple's stock price?\"\n",
    ")\n",
    "print(response[0].page_content)"
   ]
  },
  {
   "cell_type": "code",
   "execution_count": null,
   "id": "d8e83525-d45e-428b-8a8e-d2dc2e6a6c90",
   "metadata": {
    "tags": []
   },
   "outputs": [],
   "source": [
    "from langchain.chains import RetrievalQA\n",
    "from langchain.chat_models import AzureChatOpenAI\n",
    "\n",
    "\n",
    "\n",
    "vector_parent = RetrievalQA.from_chain_type(\n",
    "    llm=llm,\n",
    "    chain_type=\"stuff\",\n",
    "    retriever=parent_vectorstore.as_retriever()\n",
    ")\n",
    "\n",
    "\n",
    "\n",
    "vector_parent.invoke(\n",
    "     \"What are some risk factors that can affect Apple's stock price?\"\n",
    ")"
   ]
  },
  {
   "cell_type": "markdown",
   "id": "3b09c268-b085-441b-842d-11dbf3f36db9",
   "metadata": {},
   "source": [
    "##RAG Agent Tool (combination of retrievers)"
   ]
  },
  {
   "cell_type": "code",
   "execution_count": null,
   "id": "a150e3e2-9ecd-43e8-867e-19bcb1eeeda5",
   "metadata": {
    "tags": []
   },
   "outputs": [],
   "source": [
    "from langchain.chains import GraphCypherQAChain\n",
    "from langchain.agents import initialize_agent, Tool\n",
    "from langchain.agents import AgentType\n",
    "\n",
    "\n",
    "cypher_chain = GraphCypherQAChain.from_llm(\n",
    "    cypher_llm = AzureChatOpenAI(azure_deployment='Chat_gpt_4',api_version=\"2023-05-15\", temperature=0),\n",
    "    qa_llm = AzureChatOpenAI(azure_deployment='chat_gtp_35',api_version=\"2023-05-15\", temperature=0), graph=graph, verbose=True,\n",
    ")\n",
    "\n",
    "tools = [\n",
    "    Tool(\n",
    "        name=\"Tasks\",\n",
    "        func=vector_typrag.run,\n",
    "        description=\"\"\"Useful to answer most of the questions.\n",
    "        Not useful for questions that involve aggregation.\n",
    "        Use full question as input.\n",
    "        \"\"\",\n",
    "        \n",
    "    ),\n",
    "    Tool(\n",
    "        name=\"Tasks\",\n",
    "        func=vector_hypquestion.run,\n",
    "        description=\"\"\"Useful to answer questions on dates and relationship between different companies.\n",
    "        Not useful for questions that involve aggregation.\n",
    "        Use full question as input.\n",
    "        \"\"\",        \n",
    "        \n",
    "    ),\n",
    "    # Tool(\n",
    "    #     name=\"Graph\",\n",
    "    #     func=cypher_chain.run,\n",
    "    #     description=\"\"\" Only useful for AGGREGATION questions.\n",
    "    #     Use full question as input.\n",
    "    #     \"\"\",\n",
    "    # ),\n",
    "]\n",
    "\n",
    "mrkl = initialize_agent(\n",
    "    tools, \n",
    "    AzureChatOpenAI(azure_deployment='Chat_gpt_4',api_version=\"2023-05-15\", temperature=0),\n",
    "    agent=AgentType.OPENAI_FUNCTIONS, verbose=True\n",
    ")\n"
   ]
  },
  {
   "cell_type": "code",
   "execution_count": null,
   "id": "a92dbc1a-36f5-4926-9ba5-157b5b5fc78e",
   "metadata": {
    "tags": []
   },
   "outputs": [],
   "source": [
    "graph.refresh_schema()\n",
    "response = mrkl.invoke(\"What are some risk factors that can affect Apple's stock price?\")\n",
    "print(response)"
   ]
  },
  {
   "cell_type": "code",
   "execution_count": null,
   "id": "778448e5-0e1e-4c19-9135-a98b6b1e852b",
   "metadata": {
    "tags": []
   },
   "outputs": [],
   "source": [
    "graph.refresh_schema()\n",
    "response = mrkl.invoke(\"What kind of business Apple handles?\")\n",
    "print(response)"
   ]
  },
  {
   "cell_type": "code",
   "execution_count": null,
   "id": "32c05238-237a-4fbd-9bbe-bc4e4ff1cf03",
   "metadata": {},
   "outputs": [],
   "source": [
    "# pip freeze >requirements.txt"
   ]
  },
  {
   "cell_type": "code",
   "execution_count": null,
   "id": "07e3f95a-31fb-4975-a88b-72e335eb0b41",
   "metadata": {
    "tags": []
   },
   "outputs": [],
   "source": [
    "# import sys\n",
    "# print(\"Python version: \" + sys.version)"
   ]
  }
 ],
 "metadata": {
  "kernelspec": {
   "display_name": "Python 3 (ipykernel)",
   "language": "python",
   "name": "python3"
  },
  "language_info": {
   "codemirror_mode": {
    "name": "ipython",
    "version": 3
   },
   "file_extension": ".py",
   "mimetype": "text/x-python",
   "name": "python",
   "nbconvert_exporter": "python",
   "pygments_lexer": "ipython3",
   "version": "3.11.5"
  }
 },
 "nbformat": 4,
 "nbformat_minor": 5
}
