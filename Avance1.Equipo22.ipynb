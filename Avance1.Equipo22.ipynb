{
 "cells": [
  {
   "cell_type": "markdown",
   "metadata": {},
   "source": [
    "## Get Data Set ##"
   ]
  },
  {
   "cell_type": "code",
   "execution_count": 18,
   "metadata": {},
   "outputs": [
    {
     "name": "stdout",
     "output_type": "stream",
     "text": [
      "Looking in indexes: https://pypi.org/simple, https://pypi.ngc.nvidia.com\n",
      "Requirement already satisfied: sec-edgar-api in c:\\users\\jpbla\\appdata\\local\\programs\\python\\python311\\lib\\site-packages (1.1.0)\n",
      "Requirement already satisfied: requests in c:\\users\\jpbla\\appdata\\local\\programs\\python\\python311\\lib\\site-packages (from sec-edgar-api) (2.31.0)\n",
      "Requirement already satisfied: pyrate-limiter>=3.1.0 in c:\\users\\jpbla\\appdata\\local\\programs\\python\\python311\\lib\\site-packages (from sec-edgar-api) (3.6.1)\n",
      "Requirement already satisfied: charset-normalizer<4,>=2 in c:\\users\\jpbla\\appdata\\local\\programs\\python\\python311\\lib\\site-packages (from requests->sec-edgar-api) (3.3.0)\n",
      "Requirement already satisfied: idna<4,>=2.5 in c:\\users\\jpbla\\appdata\\local\\programs\\python\\python311\\lib\\site-packages (from requests->sec-edgar-api) (3.4)\n",
      "Requirement already satisfied: urllib3<3,>=1.21.1 in c:\\users\\jpbla\\appdata\\local\\programs\\python\\python311\\lib\\site-packages (from requests->sec-edgar-api) (2.0.5)\n",
      "Requirement already satisfied: certifi>=2017.4.17 in c:\\users\\jpbla\\appdata\\local\\programs\\python\\python311\\lib\\site-packages (from requests->sec-edgar-api) (2023.7.22)\n",
      "Note: you may need to restart the kernel to use updated packages.\n"
     ]
    },
    {
     "name": "stderr",
     "output_type": "stream",
     "text": [
      "DEPRECATION: Loading egg at c:\\users\\jpbla\\appdata\\local\\programs\\python\\python311\\lib\\site-packages\\fasttext-0.9.2-py3.11-win-amd64.egg is deprecated. pip 24.3 will enforce this behaviour change. A possible replacement is to use pip for package installation.. Discussion can be found at https://github.com/pypa/pip/issues/12330\n"
     ]
    },
    {
     "name": "stdout",
     "output_type": "stream",
     "text": [
      "Looking in indexes: https://pypi.org/simple, https://pypi.ngc.nvidia.com\n",
      "Requirement already satisfied: finnhub-python in c:\\users\\jpbla\\appdata\\local\\programs\\python\\python311\\lib\\site-packages (2.4.19)\n",
      "Requirement already satisfied: requests>=2.22.0 in c:\\users\\jpbla\\appdata\\local\\programs\\python\\python311\\lib\\site-packages (from finnhub-python) (2.31.0)\n",
      "Requirement already satisfied: charset-normalizer<4,>=2 in c:\\users\\jpbla\\appdata\\local\\programs\\python\\python311\\lib\\site-packages (from requests>=2.22.0->finnhub-python) (3.3.0)\n",
      "Requirement already satisfied: idna<4,>=2.5 in c:\\users\\jpbla\\appdata\\local\\programs\\python\\python311\\lib\\site-packages (from requests>=2.22.0->finnhub-python) (3.4)\n",
      "Requirement already satisfied: urllib3<3,>=1.21.1 in c:\\users\\jpbla\\appdata\\local\\programs\\python\\python311\\lib\\site-packages (from requests>=2.22.0->finnhub-python) (2.0.5)\n",
      "Requirement already satisfied: certifi>=2017.4.17 in c:\\users\\jpbla\\appdata\\local\\programs\\python\\python311\\lib\\site-packages (from requests>=2.22.0->finnhub-python) (2023.7.22)\n",
      "Note: you may need to restart the kernel to use updated packages.\n"
     ]
    },
    {
     "name": "stderr",
     "output_type": "stream",
     "text": [
      "DEPRECATION: Loading egg at c:\\users\\jpbla\\appdata\\local\\programs\\python\\python311\\lib\\site-packages\\fasttext-0.9.2-py3.11-win-amd64.egg is deprecated. pip 24.3 will enforce this behaviour change. A possible replacement is to use pip for package installation.. Discussion can be found at https://github.com/pypa/pip/issues/12330\n"
     ]
    },
    {
     "name": "stdout",
     "output_type": "stream",
     "text": [
      "Looking in indexes: https://pypi.org/simple, https://pypi.ngc.nvidia.com\n",
      "Requirement already satisfied: yfinance in c:\\users\\jpbla\\appdata\\local\\programs\\python\\python311\\lib\\site-packages (0.2.38)\n",
      "Requirement already satisfied: pandas>=1.3.0 in c:\\users\\jpbla\\appdata\\local\\programs\\python\\python311\\lib\\site-packages (from yfinance) (2.1.1)\n",
      "Requirement already satisfied: numpy>=1.16.5 in c:\\users\\jpbla\\appdata\\local\\programs\\python\\python311\\lib\\site-packages (from yfinance) (1.26.0)\n",
      "Requirement already satisfied: requests>=2.31 in c:\\users\\jpbla\\appdata\\local\\programs\\python\\python311\\lib\\site-packages (from yfinance) (2.31.0)\n",
      "Requirement already satisfied: multitasking>=0.0.7 in c:\\users\\jpbla\\appdata\\local\\programs\\python\\python311\\lib\\site-packages (from yfinance) (0.0.11)\n",
      "Requirement already satisfied: lxml>=4.9.1 in c:\\users\\jpbla\\appdata\\local\\programs\\python\\python311\\lib\\site-packages (from yfinance) (4.9.3)\n",
      "Requirement already satisfied: appdirs>=1.4.4 in c:\\users\\jpbla\\appdata\\local\\programs\\python\\python311\\lib\\site-packages (from yfinance) (1.4.4)\n",
      "Requirement already satisfied: pytz>=2022.5 in c:\\users\\jpbla\\appdata\\local\\programs\\python\\python311\\lib\\site-packages (from yfinance) (2023.3.post1)\n",
      "Requirement already satisfied: frozendict>=2.3.4 in c:\\users\\jpbla\\appdata\\local\\programs\\python\\python311\\lib\\site-packages (from yfinance) (2.4.2)\n",
      "Requirement already satisfied: peewee>=3.16.2 in c:\\users\\jpbla\\appdata\\local\\programs\\python\\python311\\lib\\site-packages (from yfinance) (3.17.3)\n",
      "Requirement already satisfied: beautifulsoup4>=4.11.1 in c:\\users\\jpbla\\appdata\\local\\programs\\python\\python311\\lib\\site-packages (from yfinance) (4.12.2)\n",
      "Requirement already satisfied: html5lib>=1.1 in c:\\users\\jpbla\\appdata\\local\\programs\\python\\python311\\lib\\site-packages (from yfinance) (1.1)\n",
      "Requirement already satisfied: soupsieve>1.2 in c:\\users\\jpbla\\appdata\\local\\programs\\python\\python311\\lib\\site-packages (from beautifulsoup4>=4.11.1->yfinance) (2.5)\n",
      "Requirement already satisfied: six>=1.9 in c:\\users\\jpbla\\appdata\\local\\programs\\python\\python311\\lib\\site-packages (from html5lib>=1.1->yfinance) (1.16.0)\n",
      "Requirement already satisfied: webencodings in c:\\users\\jpbla\\appdata\\local\\programs\\python\\python311\\lib\\site-packages (from html5lib>=1.1->yfinance) (0.5.1)\n",
      "Requirement already satisfied: python-dateutil>=2.8.2 in c:\\users\\jpbla\\appdata\\local\\programs\\python\\python311\\lib\\site-packages (from pandas>=1.3.0->yfinance) (2.8.2)\n",
      "Requirement already satisfied: tzdata>=2022.1 in c:\\users\\jpbla\\appdata\\local\\programs\\python\\python311\\lib\\site-packages (from pandas>=1.3.0->yfinance) (2023.3)\n",
      "Requirement already satisfied: charset-normalizer<4,>=2 in c:\\users\\jpbla\\appdata\\local\\programs\\python\\python311\\lib\\site-packages (from requests>=2.31->yfinance) (3.3.0)\n",
      "Requirement already satisfied: idna<4,>=2.5 in c:\\users\\jpbla\\appdata\\local\\programs\\python\\python311\\lib\\site-packages (from requests>=2.31->yfinance) (3.4)\n",
      "Requirement already satisfied: urllib3<3,>=1.21.1 in c:\\users\\jpbla\\appdata\\local\\programs\\python\\python311\\lib\\site-packages (from requests>=2.31->yfinance) (2.0.5)\n",
      "Requirement already satisfied: certifi>=2017.4.17 in c:\\users\\jpbla\\appdata\\local\\programs\\python\\python311\\lib\\site-packages (from requests>=2.31->yfinance) (2023.7.22)\n",
      "Note: you may need to restart the kernel to use updated packages.\n"
     ]
    },
    {
     "name": "stderr",
     "output_type": "stream",
     "text": [
      "DEPRECATION: Loading egg at c:\\users\\jpbla\\appdata\\local\\programs\\python\\python311\\lib\\site-packages\\fasttext-0.9.2-py3.11-win-amd64.egg is deprecated. pip 24.3 will enforce this behaviour change. A possible replacement is to use pip for package installation.. Discussion can be found at https://github.com/pypa/pip/issues/12330\n"
     ]
    }
   ],
   "source": [
    "# instalación de librerias\n",
    "%pip install sec-edgar-api\n",
    "%pip install finnhub-python\n",
    "%pip install yfinance"
   ]
  },
  {
   "cell_type": "code",
   "execution_count": 6,
   "metadata": {},
   "outputs": [],
   "source": [
    "#importación de librerias necesarias\n",
    "import pandas as pd\n",
    "import finnhub\n",
    "from tqdm import tqdm\n",
    "import yfinance as yf\n",
    "import os\n",
    "import json\n",
    "import time\n",
    "from datetime import datetime\n",
    "from sec_edgar_api import EdgarClient\n",
    "from dateutil.relativedelta import relativedelta"
   ]
  },
  {
   "cell_type": "markdown",
   "metadata": {},
   "source": [
    "## Descripción de Bases de Datos ##\n",
    "- EDGAR  - (Electronic Data Gathering, Analysis, and Retrieval ) base de datos pública del gobierno de Estados Unidos donde se  suben los estados financieros de todas las empresas publicas.\n",
    "\n",
    "- Finnhub - es un repositorio en linea de información financiera, es accesible a través de un API.\n",
    "\n",
    "- YF - es un repositorio del movimiento diario del stock de las empresas."
   ]
  },
  {
   "cell_type": "code",
   "execution_count": 7,
   "metadata": {},
   "outputs": [],
   "source": [
    "#configuraciones necesarias\n",
    "edgar = EdgarClient(user_agent=\"tec a01793474@tec.mx\")\n",
    "finnhub_client = finnhub.Client(api_key='coopla9r01qtvljfpqvgcoopla9r01qtvljfpr00')"
   ]
  },
  {
   "cell_type": "code",
   "execution_count": 63,
   "metadata": {},
   "outputs": [],
   "source": [
    "def get_data(data_dir,com_list):\n",
    "  \"\"\" Función para obtener y generar archivos json con la información\"\"\"\n",
    "  data = []\n",
    "  os.makedirs(f'{data_dir}', exist_ok=True) \n",
    "  os.makedirs(f'{data_dir}/news', exist_ok=True) \n",
    "  os.makedirs(f'{data_dir}/submissions', exist_ok=True) \n",
    "  os.makedirs(f'{data_dir}/facts', exist_ok=True) \n",
    "  os.makedirs(f'{data_dir}/stock', exist_ok=True)\n",
    "  start_date = (datetime.today() + relativedelta(months=-12)).strftime('%Y-%m-%d')\n",
    "  end_date = datetime.today().strftime('%Y-%m-%d')\n",
    "  \n",
    "  for i in tqdm(range(0,len(com_list)-1)):\n",
    "    symbol = com_list['symbol'][i]\n",
    "    cipk = com_list['cipk'][i]\n",
    "    \n",
    "    try:\n",
    "      \n",
    "      weekly_news = finnhub_client.company_news(symbol, _from=start_date, to=end_date)\n",
    "      weekly_news = [{\n",
    "                        \"date\": datetime.fromtimestamp(n['datetime']).strftime('%Y%m%d%H%M%S'),\n",
    "                        \"headline\": n['headline'],\n",
    "                        \"summary\": n['summary'],\n",
    "                    } for n in weekly_news\n",
    "                ]\n",
    "      weekly_news.sort(key=lambda x: x['date'])\n",
    "        \n",
    "      json_file1 = f'{data_dir}/news/{symbol}_{start_date}_{end_date}_news.json' \n",
    "        \n",
    "      with open(json_file1, mode='w', newline='',encoding=\"utf-8\") as file1:\n",
    "       file1.write(json.dumps({'news':weekly_news}))\n",
    "        \n",
    "      submissions = edgar.get_submissions(cik=cipk)\n",
    "        \n",
    "      json_file2 = f'{data_dir}/submissions/{symbol}_submissions.json' \n",
    "        \n",
    "      with open(json_file2, mode='w', newline='',encoding=\"utf-8\") as file2:\n",
    "        file2.write(json.dumps({'submissions':submissions}))\n",
    "              \n",
    "      facts = edgar.get_company_facts(cik=cipk)\n",
    "        \n",
    "      json_file3 = f'{data_dir}/facts/{symbol}_facts.json' \n",
    "        \n",
    "      with open(json_file3, mode='w', newline='',encoding=\"utf-8\") as file3:\n",
    "        file3.write(json.dumps({'facts':facts}))\n",
    "        \n",
    "      stock = yf.download(symbol, start=start_date, end=end_date).reset_index()\n",
    "        \n",
    "      json_file4 = f'{data_dir}/stock/{symbol}_stock.json' \n",
    "        \n",
    "      stock.to_json(json_file4)\n",
    "                  \n",
    "      data.append({'symbol':symbol,\n",
    "                      'data': {\n",
    "                        'sumbissions': submissions,\n",
    "                        'facts':facts,\n",
    "                        'news':weekly_news\n",
    "                      }\n",
    "                  })\n",
    "      \n",
    "      time.sleep(1)\n",
    "      \n",
    "    except Exception as e:\n",
    "      print(f\" {e} in symbol {symbol}\")\n",
    "      \n",
    "  return data"
   ]
  },
  {
   "cell_type": "markdown",
   "metadata": {},
   "source": [
    "## Datos a Obtener ##\n",
    "- Facts - información de la empresa y documentos financieros subidos\n",
    "- News - noticias relevantes de la empresa\n",
    "- Stock - movimientos del stock de la empresa\n",
    "- Submissions - documentos subidos"
   ]
  },
  {
   "cell_type": "code",
   "execution_count": 64,
   "metadata": {},
   "outputs": [],
   "source": [
    "#listado de empresas \n",
    "com_list = pd.read_csv('./data/ticker_select.txt', sep='\\t',names=['symbol', 'cipk']) "
   ]
  },
  {
   "cell_type": "code",
   "execution_count": 65,
   "metadata": {},
   "outputs": [
    {
     "name": "stderr",
     "output_type": "stream",
     "text": [
      "[*********************100%%**********************]  1 of 1 completed\n",
      "[*********************100%%**********************]  1 of 1 completed\n",
      "[*********************100%%**********************]  1 of 1 completed\n",
      "[*********************100%%**********************]  1 of 1 completed\n",
      "[*********************100%%**********************]  1 of 1 completed\n",
      "[*********************100%%**********************]  1 of 1 completed\n",
      "[*********************100%%**********************]  1 of 1 completed\n",
      "[*********************100%%**********************]  1 of 1 completed\n",
      "[*********************100%%**********************]  1 of 1 completed\n",
      "[*********************100%%**********************]  1 of 1 completed\n",
      "[*********************100%%**********************]  1 of 1 completed\n",
      "[*********************100%%**********************]  1 of 1 completed\n",
      "[*********************100%%**********************]  1 of 1 completed\n",
      "[*********************100%%**********************]  1 of 1 completed\n",
      "[*********************100%%**********************]  1 of 1 completed\n",
      "[*********************100%%**********************]  1 of 1 completed\n",
      "[*********************100%%**********************]  1 of 1 completed\n",
      "[*********************100%%**********************]  1 of 1 completed\n",
      " 14%|█▍        | 19/133 [00:53<04:21,  2.30s/it]"
     ]
    },
    {
     "name": "stdout",
     "output_type": "stream",
     "text": [
      " FinnhubAPIException(status_code: 403): You don't have access to this resource. in symbol MC.PA\n"
     ]
    },
    {
     "name": "stderr",
     "output_type": "stream",
     "text": [
      "[*********************100%%**********************]  1 of 1 completed\n",
      "[*********************100%%**********************]  1 of 1 completed\n",
      "[*********************100%%**********************]  1 of 1 completed\n",
      "[*********************100%%**********************]  1 of 1 completed\n",
      "[*********************100%%**********************]  1 of 1 completed\n",
      "[*********************100%%**********************]  1 of 1 completed\n",
      "[*********************100%%**********************]  1 of 1 completed\n",
      "[*********************100%%**********************]  1 of 1 completed\n",
      "[*********************100%%**********************]  1 of 1 completed\n",
      "[*********************100%%**********************]  1 of 1 completed\n",
      "[*********************100%%**********************]  1 of 1 completed\n",
      "[*********************100%%**********************]  1 of 1 completed\n",
      "[*********************100%%**********************]  1 of 1 completed\n",
      " 24%|██▍       | 32/133 [01:36<05:47,  3.44s/it]"
     ]
    },
    {
     "name": "stdout",
     "output_type": "stream",
     "text": [
      " FinnhubAPIException(status_code: 403): You don't have access to this resource. in symbol NESN.SW\n"
     ]
    },
    {
     "name": "stderr",
     "output_type": "stream",
     "text": [
      "[*********************100%%**********************]  1 of 1 completed\n",
      " 27%|██▋       | 36/133 [01:41<02:37,  1.62s/it]"
     ]
    },
    {
     "name": "stdout",
     "output_type": "stream",
     "text": [
      " FinnhubAPIException(status_code: 403): You don't have access to this resource. in symbol RMS.PA\n",
      " FinnhubAPIException(status_code: 403): You don't have access to this resource. in symbol OR.PA\n"
     ]
    },
    {
     "name": "stderr",
     "output_type": "stream",
     "text": [
      "[*********************100%%**********************]  1 of 1 completed\n",
      "[*********************100%%**********************]  1 of 1 completed\n",
      "[*********************100%%**********************]  1 of 1 completed\n",
      "[*********************100%%**********************]  1 of 1 completed\n",
      "\n",
      "1 Failed download:\n",
      "['IHC.AE']: Exception('%ticker%: No timezone found, symbol may be delisted')\n",
      "[*********************100%%**********************]  1 of 1 completed\n",
      " 31%|███       | 41/133 [01:59<04:54,  3.21s/it]"
     ]
    },
    {
     "name": "stdout",
     "output_type": "stream",
     "text": [
      " FinnhubAPIException(status_code: 403): You don't have access to this resource. in symbol RELIANCE.NS\n"
     ]
    },
    {
     "name": "stderr",
     "output_type": "stream",
     "text": [
      "[*********************100%%**********************]  1 of 1 completed\n",
      "[*********************100%%**********************]  1 of 1 completed\n",
      "[*********************100%%**********************]  1 of 1 completed\n",
      "[*********************100%%**********************]  1 of 1 completed\n",
      "[*********************100%%**********************]  1 of 1 completed\n",
      "[*********************100%%**********************]  1 of 1 completed\n",
      "[*********************100%%**********************]  1 of 1 completed\n",
      "[*********************100%%**********************]  1 of 1 completed\n",
      "[*********************100%%**********************]  1 of 1 completed\n",
      "[*********************100%%**********************]  1 of 1 completed\n",
      "[*********************100%%**********************]  1 of 1 completed\n",
      "[*********************100%%**********************]  1 of 1 completed\n",
      " 41%|████▏     | 55/133 [02:33<02:16,  1.75s/it]"
     ]
    },
    {
     "name": "stdout",
     "output_type": "stream",
     "text": [
      " FinnhubAPIException(status_code: 403): You don't have access to this resource. in symbol ROG.SW\n"
     ]
    },
    {
     "name": "stderr",
     "output_type": "stream",
     "text": [
      "[*********************100%%**********************]  1 of 1 completed\n",
      "[*********************100%%**********************]  1 of 1 completed\n",
      "[*********************100%%**********************]  1 of 1 completed\n",
      "[*********************100%%**********************]  1 of 1 completed\n",
      "[*********************100%%**********************]  1 of 1 completed\n",
      "[*********************100%%**********************]  1 of 1 completed\n",
      "[*********************100%%**********************]  1 of 1 completed\n",
      "[*********************100%%**********************]  1 of 1 completed\n",
      "[*********************100%%**********************]  1 of 1 completed\n",
      "[*********************100%%**********************]  1 of 1 completed\n",
      "[*********************100%%**********************]  1 of 1 completed\n",
      " 50%|████▉     | 66/133 [03:07<03:09,  2.82s/it]"
     ]
    },
    {
     "name": "stdout",
     "output_type": "stream",
     "text": [
      " FinnhubAPIException(status_code: 403): You don't have access to this resource. in symbol TCS.NS\n"
     ]
    },
    {
     "name": "stderr",
     "output_type": "stream",
     "text": [
      "[*********************100%%**********************]  1 of 1 completed\n",
      "[*********************100%%**********************]  1 of 1 completed\n",
      "[*********************100%%**********************]  1 of 1 completed\n",
      "[*********************100%%**********************]  1 of 1 completed\n",
      "[*********************100%%**********************]  1 of 1 completed\n",
      " 55%|█████▍    | 73/133 [03:23<02:08,  2.15s/it]"
     ]
    },
    {
     "name": "stdout",
     "output_type": "stream",
     "text": [
      " FinnhubAPIException(status_code: 403): You don't have access to this resource. in symbol PRX.AS\n"
     ]
    },
    {
     "name": "stderr",
     "output_type": "stream",
     "text": [
      "[*********************100%%**********************]  1 of 1 completed\n",
      "[*********************100%%**********************]  1 of 1 completed\n",
      "[*********************100%%**********************]  1 of 1 completed\n",
      "[*********************100%%**********************]  1 of 1 completed\n",
      " 58%|█████▊    | 77/133 [03:44<03:28,  3.73s/it]"
     ]
    },
    {
     "name": "stdout",
     "output_type": "stream",
     "text": [
      " FinnhubAPIException(status_code: 403): You don't have access to this resource. in symbol SIE.DE\n"
     ]
    },
    {
     "name": "stderr",
     "output_type": "stream",
     "text": [
      "[*********************100%%**********************]  1 of 1 completed\n",
      "[*********************100%%**********************]  1 of 1 completed\n",
      "[*********************100%%**********************]  1 of 1 completed\n",
      "[*********************100%%**********************]  1 of 1 completed\n",
      "[*********************100%%**********************]  1 of 1 completed\n",
      " 63%|██████▎   | 84/133 [03:58<01:43,  2.11s/it]"
     ]
    },
    {
     "name": "stdout",
     "output_type": "stream",
     "text": [
      " An error occurred with the SEC EDGAR API: 404 Client Error: Not Found for url: https://data.sec.gov/api/xbrl/companyfacts/CIK0001438656.json in symbol IDEXY\n",
      " FinnhubAPIException(status_code: 403): You don't have access to this resource. in symbol CDI.PA\n"
     ]
    },
    {
     "name": "stderr",
     "output_type": "stream",
     "text": [
      "[*********************100%%**********************]  1 of 1 completed\n",
      "[*********************100%%**********************]  1 of 1 completed\n",
      "[*********************100%%**********************]  1 of 1 completed\n",
      "[*********************100%%**********************]  1 of 1 completed\n",
      "[*********************100%%**********************]  1 of 1 completed\n",
      "[*********************100%%**********************]  1 of 1 completed\n",
      "[*********************100%%**********************]  1 of 1 completed\n",
      "[*********************100%%**********************]  1 of 1 completed\n",
      "[*********************100%%**********************]  1 of 1 completed\n",
      "[*********************100%%**********************]  1 of 1 completed\n",
      "[*********************100%%**********************]  1 of 1 completed\n",
      " 72%|███████▏  | 96/133 [04:40<01:57,  3.16s/it]"
     ]
    },
    {
     "name": "stdout",
     "output_type": "stream",
     "text": [
      " FinnhubAPIException(status_code: 403): You don't have access to this resource. in symbol AIR.PA\n"
     ]
    },
    {
     "name": "stderr",
     "output_type": "stream",
     "text": [
      "[*********************100%%**********************]  1 of 1 completed\n",
      " 74%|███████▎  | 98/133 [04:43<01:21,  2.34s/it]"
     ]
    },
    {
     "name": "stdout",
     "output_type": "stream",
     "text": [
      " FinnhubAPIException(status_code: 403): You don't have access to this resource. in symbol SU.PA\n"
     ]
    },
    {
     "name": "stderr",
     "output_type": "stream",
     "text": [
      "[*********************100%%**********************]  1 of 1 completed\n",
      "[*********************100%%**********************]  1 of 1 completed\n",
      " 77%|███████▋  | 102/133 [04:50<00:55,  1.78s/it]"
     ]
    },
    {
     "name": "stdout",
     "output_type": "stream",
     "text": [
      " FinnhubAPIException(status_code: 403): You don't have access to this resource. in symbol CBA.AX\n"
     ]
    },
    {
     "name": "stderr",
     "output_type": "stream",
     "text": [
      "[*********************100%%**********************]  1 of 1 completed\n",
      "[*********************100%%**********************]  1 of 1 completed\n",
      "[*********************100%%**********************]  1 of 1 completed\n",
      "[*********************100%%**********************]  1 of 1 completed\n",
      "[*********************100%%**********************]  1 of 1 completed\n",
      "[*********************100%%**********************]  1 of 1 completed\n",
      "[*********************100%%**********************]  1 of 1 completed\n",
      "[*********************100%%**********************]  1 of 1 completed\n",
      "[*********************100%%**********************]  1 of 1 completed\n",
      "[*********************100%%**********************]  1 of 1 completed\n",
      "[*********************100%%**********************]  1 of 1 completed\n",
      "[*********************100%%**********************]  1 of 1 completed\n",
      " 86%|████████▋ | 115/133 [05:31<00:59,  3.29s/it]"
     ]
    },
    {
     "name": "stdout",
     "output_type": "stream",
     "text": [
      " FinnhubAPIException(status_code: 403): You don't have access to this resource. in symbol DTE.DE\n"
     ]
    },
    {
     "name": "stderr",
     "output_type": "stream",
     "text": [
      "[*********************100%%**********************]  1 of 1 completed\n",
      "[*********************100%%**********************]  1 of 1 completed\n",
      "[*********************100%%**********************]  1 of 1 completed\n",
      " 89%|████████▊ | 118/133 [05:44<00:54,  3.63s/it]"
     ]
    },
    {
     "name": "stdout",
     "output_type": "stream",
     "text": [
      " FinnhubAPIException(status_code: 403): You don't have access to this resource. in symbol ALV.DE\n"
     ]
    },
    {
     "name": "stderr",
     "output_type": "stream",
     "text": [
      "[*********************100%%**********************]  1 of 1 completed\n",
      "[*********************100%%**********************]  1 of 1 completed\n",
      "[*********************100%%**********************]  1 of 1 completed\n",
      "[*********************100%%**********************]  1 of 1 completed\n",
      "[*********************100%%**********************]  1 of 1 completed\n",
      "[*********************100%%**********************]  1 of 1 completed\n",
      "[*********************100%%**********************]  1 of 1 completed\n",
      "[*********************100%%**********************]  1 of 1 completed\n",
      "[*********************100%%**********************]  1 of 1 completed\n",
      "[*********************100%%**********************]  1 of 1 completed\n",
      "[*********************100%%**********************]  1 of 1 completed\n",
      " 98%|█████████▊| 131/133 [06:17<00:04,  2.10s/it]"
     ]
    },
    {
     "name": "stdout",
     "output_type": "stream",
     "text": [
      " FinnhubAPIException(status_code: 403): You don't have access to this resource. in symbol AI.PA\n"
     ]
    },
    {
     "name": "stderr",
     "output_type": "stream",
     "text": [
      "[*********************100%%**********************]  1 of 1 completed\n",
      "[*********************100%%**********************]  1 of 1 completed\n",
      "100%|██████████| 133/133 [06:23<00:00,  2.88s/it]\n"
     ]
    }
   ],
   "source": [
    "#obtener y generar archivos\n",
    "data = get_data('data',com_list)"
   ]
  },
  {
   "cell_type": "markdown",
   "metadata": {},
   "source": [
    "### Preguntas sobre los datos ###\n",
    "- ¿Hay valores faltantes en el conjunto de datos? ¿Se pueden identificar patrones de ausencia? \n",
    "Si existen algunas llamadas a las cuales no tenemos permisos o no se encuentran datos, en este caso se omiten.\n",
    "\n",
    "- ¿Cuáles son las estadísticas resumidas del conjunto de datos?\n",
    "Siendo 4 tipos de docuementos se deben separar en cada uno.\n",
    "    - Facts - tiene datos de la empresa que nos sirven para obtener mayor información.\n",
    "    - Submissions - tienen información financiera que podemos obtener información de estados.\n",
    "    - Stock - es la información diaria del movimiento de las acciones aun no estamos seguros si podemos utilizarla pero seria interesante.\n",
    "    - News - este es el prinicipal dato que utilizaremos, sirve para poder hacer las relaciones de los datos y de donde realizar las preguntas.\n",
    "\n",
    "- ¿Hay valores atípicos en el conjunto de datos?\n",
    "No, todos los valores son estandares el unico problema que hemos visto es en las noticias no estan bien los caracteres, eso podemos filtrarlo más adelante.\n",
    "\n",
    "- ¿Cuál es la cardinalidad de las variables categóricas?\n",
    "En este caso las variables categóricas se definen de diferent forma para nuestro proyecto en este caso deben ser atributos o nodos y relaciones pero esto lo definirá el LLM.\n",
    "\n",
    "- ¿Existen distribuciones sesgadas en el conjunto de datos? ¿Necesitamos aplicar alguna transformación no lineal?\n",
    "Si pero esto es esperado, no es necesaria la transformación.\n",
    "\n",
    "- ¿Se identifican tendencias temporales? (En caso de que el conjunto incluya una dimensión de tiempo).\n",
    "Si hay tendencias sobre todo en los datos de stock pero no es seguro que utilicemos esos datos, lo que si podemos hacer es un analisis de aumentar o disminuir el stock lo cual haria una variable interesante.\n",
    "\n",
    "- ¿Hay correlación entre las variables dependientes e independientes?\n",
    "En este caso, eso es lo que estamos buscando las relaciones entre los datos para generar le grafo de conocimiento.\n",
    "\n",
    "- ¿Cómo se distribuyen los datos en función de diferentes categorías?\n",
    "Cada uno de los documentos tiene un proposito diferente y por lo tanto no hay distribución. Estas categorias o relaciones se tienen que obtener de manera automatica.\n",
    "\n",
    "- ¿Existen patrones o agrupaciones (clusters) en los datos con características similares?\n",
    "Este es el tema del cual tenemos que trabajar que se determinen las relaciones de manera automatica.\n",
    "\n",
    "- ¿Se deberían normalizar las imágenes para visualizarlas mejor?\n",
    "No es necesario. Se necesitan los datos tal cual se obtuvieron.\n",
    "\n",
    "- ¿Hay desequilibrio en las clases de la variable objetivo?\n",
    "Nuestra variable objetivo es la relación entre los datos."
   ]
  },
  {
   "cell_type": "code",
   "execution_count": 66,
   "metadata": {},
   "outputs": [],
   "source": [
    "# Ejemplos\n",
    "facts = pd.read_json('data/facts/AAPL_facts.json', encoding = 'utf-8')\n",
    "news = pd.read_json('data/news/AAPL_2023-05-04_2024-05-04_news.json', encoding = 'utf-8')\n",
    "stock = pd.read_json('data/stock/AAPL_stock.json', encoding = 'utf-8')\n",
    "sub = pd.read_json('data/submissions/AAPL_submissions.json', encoding = 'utf-8')"
   ]
  },
  {
   "cell_type": "code",
   "execution_count": 87,
   "metadata": {},
   "outputs": [
    {
     "name": "stderr",
     "output_type": "stream",
     "text": [
      "C:\\Users\\jpbla\\AppData\\Local\\Temp\\ipykernel_5852\\3277446292.py:1: FutureWarning: Series.__getitem__ treating keys as positions is deprecated. In a future version, integer keys will always be treated as labels (consistent with DataFrame behavior). To access a value by position, use `ser.iloc[pos]`\n",
      "  facts_data = pd.DataFrame(dict(facts['facts'][2]))\n"
     ]
    },
    {
     "data": {
      "text/html": [
       "<div>\n",
       "<style scoped>\n",
       "    .dataframe tbody tr th:only-of-type {\n",
       "        vertical-align: middle;\n",
       "    }\n",
       "\n",
       "    .dataframe tbody tr th {\n",
       "        vertical-align: top;\n",
       "    }\n",
       "\n",
       "    .dataframe thead th {\n",
       "        text-align: right;\n",
       "    }\n",
       "</style>\n",
       "<table border=\"1\" class=\"dataframe\">\n",
       "  <thead>\n",
       "    <tr style=\"text-align: right;\">\n",
       "      <th></th>\n",
       "      <th>dei</th>\n",
       "      <th>us-gaap</th>\n",
       "    </tr>\n",
       "  </thead>\n",
       "  <tbody>\n",
       "    <tr>\n",
       "      <th>EntityCommonStockSharesOutstanding</th>\n",
       "      <td>{'label': 'Entity Common Stock, Shares Outstan...</td>\n",
       "      <td>NaN</td>\n",
       "    </tr>\n",
       "    <tr>\n",
       "      <th>EntityPublicFloat</th>\n",
       "      <td>{'label': 'Entity Public Float', 'description'...</td>\n",
       "      <td>NaN</td>\n",
       "    </tr>\n",
       "    <tr>\n",
       "      <th>AccountsPayable</th>\n",
       "      <td>NaN</td>\n",
       "      <td>{'label': 'Accounts Payable (Deprecated 2009-0...</td>\n",
       "    </tr>\n",
       "    <tr>\n",
       "      <th>AccountsPayableCurrent</th>\n",
       "      <td>NaN</td>\n",
       "      <td>{'label': 'Accounts Payable, Current', 'descri...</td>\n",
       "    </tr>\n",
       "    <tr>\n",
       "      <th>AccountsReceivableNetCurrent</th>\n",
       "      <td>NaN</td>\n",
       "      <td>{'label': 'Accounts Receivable, after Allowanc...</td>\n",
       "    </tr>\n",
       "  </tbody>\n",
       "</table>\n",
       "</div>"
      ],
      "text/plain": [
       "                                                                                  dei  \\\n",
       "EntityCommonStockSharesOutstanding  {'label': 'Entity Common Stock, Shares Outstan...   \n",
       "EntityPublicFloat                   {'label': 'Entity Public Float', 'description'...   \n",
       "AccountsPayable                                                                   NaN   \n",
       "AccountsPayableCurrent                                                            NaN   \n",
       "AccountsReceivableNetCurrent                                                      NaN   \n",
       "\n",
       "                                                                              us-gaap  \n",
       "EntityCommonStockSharesOutstanding                                                NaN  \n",
       "EntityPublicFloat                                                                 NaN  \n",
       "AccountsPayable                     {'label': 'Accounts Payable (Deprecated 2009-0...  \n",
       "AccountsPayableCurrent              {'label': 'Accounts Payable, Current', 'descri...  \n",
       "AccountsReceivableNetCurrent        {'label': 'Accounts Receivable, after Allowanc...  "
      ]
     },
     "execution_count": 87,
     "metadata": {},
     "output_type": "execute_result"
    }
   ],
   "source": [
    "facts_data = pd.DataFrame(dict(facts['facts'][2]))\n",
    "facts_data.head()"
   ]
  },
  {
   "cell_type": "code",
   "execution_count": 89,
   "metadata": {},
   "outputs": [
    {
     "data": {
      "text/html": [
       "<div>\n",
       "<style scoped>\n",
       "    .dataframe tbody tr th:only-of-type {\n",
       "        vertical-align: middle;\n",
       "    }\n",
       "\n",
       "    .dataframe tbody tr th {\n",
       "        vertical-align: top;\n",
       "    }\n",
       "\n",
       "    .dataframe thead th {\n",
       "        text-align: right;\n",
       "    }\n",
       "</style>\n",
       "<table border=\"1\" class=\"dataframe\">\n",
       "  <thead>\n",
       "    <tr style=\"text-align: right;\">\n",
       "      <th></th>\n",
       "      <th>news</th>\n",
       "    </tr>\n",
       "  </thead>\n",
       "  <tbody>\n",
       "    <tr>\n",
       "      <th>0</th>\n",
       "      <td>{'date': '20240501170359', 'headline': 'Dow Jo...</td>\n",
       "    </tr>\n",
       "    <tr>\n",
       "      <th>1</th>\n",
       "      <td>{'date': '20240501193000', 'headline': 'Apple,...</td>\n",
       "    </tr>\n",
       "    <tr>\n",
       "      <th>2</th>\n",
       "      <td>{'date': '20240501194100', 'headline': 'Invest...</td>\n",
       "    </tr>\n",
       "    <tr>\n",
       "      <th>3</th>\n",
       "      <td>{'date': '20240501204000', 'headline': 'How Mu...</td>\n",
       "    </tr>\n",
       "    <tr>\n",
       "      <th>4</th>\n",
       "      <td>{'date': '20240501204631', 'headline': 'Sell A...</td>\n",
       "    </tr>\n",
       "  </tbody>\n",
       "</table>\n",
       "</div>"
      ],
      "text/plain": [
       "                                                news\n",
       "0  {'date': '20240501170359', 'headline': 'Dow Jo...\n",
       "1  {'date': '20240501193000', 'headline': 'Apple,...\n",
       "2  {'date': '20240501194100', 'headline': 'Invest...\n",
       "3  {'date': '20240501204000', 'headline': 'How Mu...\n",
       "4  {'date': '20240501204631', 'headline': 'Sell A..."
      ]
     },
     "execution_count": 89,
     "metadata": {},
     "output_type": "execute_result"
    }
   ],
   "source": [
    "news.head()"
   ]
  },
  {
   "cell_type": "code",
   "execution_count": 90,
   "metadata": {},
   "outputs": [
    {
     "data": {
      "text/html": [
       "<div>\n",
       "<style scoped>\n",
       "    .dataframe tbody tr th:only-of-type {\n",
       "        vertical-align: middle;\n",
       "    }\n",
       "\n",
       "    .dataframe tbody tr th {\n",
       "        vertical-align: top;\n",
       "    }\n",
       "\n",
       "    .dataframe thead th {\n",
       "        text-align: right;\n",
       "    }\n",
       "</style>\n",
       "<table border=\"1\" class=\"dataframe\">\n",
       "  <thead>\n",
       "    <tr style=\"text-align: right;\">\n",
       "      <th></th>\n",
       "      <th>Date</th>\n",
       "      <th>Open</th>\n",
       "      <th>High</th>\n",
       "      <th>Low</th>\n",
       "      <th>Close</th>\n",
       "      <th>Adj Close</th>\n",
       "      <th>Volume</th>\n",
       "    </tr>\n",
       "  </thead>\n",
       "  <tbody>\n",
       "    <tr>\n",
       "      <th>0</th>\n",
       "      <td>2023-05-04</td>\n",
       "      <td>164.889999</td>\n",
       "      <td>167.039993</td>\n",
       "      <td>164.309998</td>\n",
       "      <td>165.789993</td>\n",
       "      <td>164.909760</td>\n",
       "      <td>81235400</td>\n",
       "    </tr>\n",
       "    <tr>\n",
       "      <th>1</th>\n",
       "      <td>2023-05-05</td>\n",
       "      <td>170.979996</td>\n",
       "      <td>174.300003</td>\n",
       "      <td>170.759995</td>\n",
       "      <td>173.570007</td>\n",
       "      <td>172.648468</td>\n",
       "      <td>113316400</td>\n",
       "    </tr>\n",
       "    <tr>\n",
       "      <th>2</th>\n",
       "      <td>2023-05-08</td>\n",
       "      <td>172.479996</td>\n",
       "      <td>173.850006</td>\n",
       "      <td>172.110001</td>\n",
       "      <td>173.500000</td>\n",
       "      <td>172.578827</td>\n",
       "      <td>55962800</td>\n",
       "    </tr>\n",
       "    <tr>\n",
       "      <th>3</th>\n",
       "      <td>2023-05-09</td>\n",
       "      <td>173.050003</td>\n",
       "      <td>173.539993</td>\n",
       "      <td>171.600006</td>\n",
       "      <td>171.770004</td>\n",
       "      <td>170.858017</td>\n",
       "      <td>45326900</td>\n",
       "    </tr>\n",
       "    <tr>\n",
       "      <th>4</th>\n",
       "      <td>2023-05-10</td>\n",
       "      <td>173.020004</td>\n",
       "      <td>174.029999</td>\n",
       "      <td>171.899994</td>\n",
       "      <td>173.559998</td>\n",
       "      <td>172.638504</td>\n",
       "      <td>53724500</td>\n",
       "    </tr>\n",
       "  </tbody>\n",
       "</table>\n",
       "</div>"
      ],
      "text/plain": [
       "        Date        Open        High         Low       Close   Adj Close  \\\n",
       "0 2023-05-04  164.889999  167.039993  164.309998  165.789993  164.909760   \n",
       "1 2023-05-05  170.979996  174.300003  170.759995  173.570007  172.648468   \n",
       "2 2023-05-08  172.479996  173.850006  172.110001  173.500000  172.578827   \n",
       "3 2023-05-09  173.050003  173.539993  171.600006  171.770004  170.858017   \n",
       "4 2023-05-10  173.020004  174.029999  171.899994  173.559998  172.638504   \n",
       "\n",
       "      Volume  \n",
       "0   81235400  \n",
       "1  113316400  \n",
       "2   55962800  \n",
       "3   45326900  \n",
       "4   53724500  "
      ]
     },
     "execution_count": 90,
     "metadata": {},
     "output_type": "execute_result"
    }
   ],
   "source": [
    "stock.head()"
   ]
  },
  {
   "cell_type": "code",
   "execution_count": 92,
   "metadata": {},
   "outputs": [
    {
     "data": {
      "text/html": [
       "<div>\n",
       "<style scoped>\n",
       "    .dataframe tbody tr th:only-of-type {\n",
       "        vertical-align: middle;\n",
       "    }\n",
       "\n",
       "    .dataframe tbody tr th {\n",
       "        vertical-align: top;\n",
       "    }\n",
       "\n",
       "    .dataframe thead th {\n",
       "        text-align: right;\n",
       "    }\n",
       "</style>\n",
       "<table border=\"1\" class=\"dataframe\">\n",
       "  <thead>\n",
       "    <tr style=\"text-align: right;\">\n",
       "      <th></th>\n",
       "      <th>submissions</th>\n",
       "    </tr>\n",
       "  </thead>\n",
       "  <tbody>\n",
       "    <tr>\n",
       "      <th>addresses</th>\n",
       "      <td>{'mailing': {'street1': 'ONE APPLE PARK WAY', ...</td>\n",
       "    </tr>\n",
       "    <tr>\n",
       "      <th>category</th>\n",
       "      <td>Large accelerated filer</td>\n",
       "    </tr>\n",
       "    <tr>\n",
       "      <th>cik</th>\n",
       "      <td>320193</td>\n",
       "    </tr>\n",
       "    <tr>\n",
       "      <th>description</th>\n",
       "      <td></td>\n",
       "    </tr>\n",
       "    <tr>\n",
       "      <th>ein</th>\n",
       "      <td>942404110</td>\n",
       "    </tr>\n",
       "  </tbody>\n",
       "</table>\n",
       "</div>"
      ],
      "text/plain": [
       "                                                   submissions\n",
       "addresses    {'mailing': {'street1': 'ONE APPLE PARK WAY', ...\n",
       "category                               Large accelerated filer\n",
       "cik                                                     320193\n",
       "description                                                   \n",
       "ein                                                  942404110"
      ]
     },
     "execution_count": 92,
     "metadata": {},
     "output_type": "execute_result"
    }
   ],
   "source": [
    "sub.head()"
   ]
  }
 ],
 "metadata": {
  "kernelspec": {
   "display_name": "Python 3 (ipykernel)",
   "language": "python",
   "name": "python3"
  },
  "language_info": {
   "codemirror_mode": {
    "name": "ipython",
    "version": 3
   },
   "file_extension": ".py",
   "mimetype": "text/x-python",
   "name": "python",
   "nbconvert_exporter": "python",
   "pygments_lexer": "ipython3",
   "version": "3.11.5"
  }
 },
 "nbformat": 4,
 "nbformat_minor": 4
}
