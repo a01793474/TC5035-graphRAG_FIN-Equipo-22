{
 "cells": [
  {
   "cell_type": "markdown",
   "metadata": {},
   "source": [
    "### LLM Graph RAG for Financial Data ###\n",
    "by "
   ]
  },
  {
   "cell_type": "code",
   "execution_count": 2,
   "metadata": {},
   "outputs": [],
   "source": [
    "from transformers import AutoTokenizer, AutoModelForCausalLM\n",
    "from peft import PeftModel\n",
    "from datetime import datetime\n",
    "import tqdm\n",
    "import os\n",
    "import torch\n",
    "from datasets import load_from_disk, load_dataset\n",
    "from utils import *\n",
    "import json\n",
    "from neo4j import GraphDatabase\n",
    "import glob\n",
    "from timeit import default_timer as timer\n",
    "from time import sleep\n",
    "from string import Template\n",
    "import re\n",
    "import pandas as pd\n",
    "import getdatafin3"
   ]
  },
  {
   "cell_type": "code",
   "execution_count": 3,
   "metadata": {},
   "outputs": [
    {
     "data": {
      "application/vnd.jupyter.widget-view+json": {
       "model_id": "3e876f0e80494aa6a47f005dc98b72ac",
       "version_major": 2,
       "version_minor": 0
      },
      "text/plain": [
       "Loading checkpoint shards:   0%|          | 0/2 [00:00<?, ?it/s]"
      ]
     },
     "metadata": {},
     "output_type": "display_data"
    }
   ],
   "source": [
    "# Load Model\n",
    "os.environ['CUDA_VISIBLE_DEVICES'] = \"5,6\"\n",
    "\n",
    "base_model = AutoModelForCausalLM.from_pretrained(\n",
    "    'meta-llama/Llama-2-7b-chat-hf',\n",
    "    trust_remote_code=True,\n",
    "    #device_map=\"auto\",\n",
    "    torch_dtype=torch.float32,   # optional if you have enough VRAM\n",
    ")\n",
    "base_model.model_parellal = True\n",
    "model = PeftModel.from_pretrained(base_model, 'FinGPT/fingpt-forecaster_dow30_llama2-7b_lora')\n",
    "model = model.eval()\n",
    "tokenizer = AutoTokenizer.from_pretrained('meta-llama/Llama-2-7b-chat-hf')\n",
    "tokenizer.padding_side = \"right\"\n",
    "tokenizer.pad_token_id = tokenizer.eos_token_id"
   ]
  },
  {
   "cell_type": "code",
   "execution_count": 4,
   "metadata": {},
   "outputs": [],
   "source": [
    "# Database Config\n",
    "NEO4J_CONNECTION_URL='neo4j+s://7db9df71.databases.neo4j.io'\n",
    "NEO4J_USER='neo4j'\n",
    "NEO4J_PASSWORD='HeQXE-OQgB-g4ECIqsZu9UTyqEaH2XfxZjcHd3PimkU'\n",
    "\n",
    "neo4j_url = NEO4J_CONNECTION_URL\n",
    "neo4j_user = NEO4J_USER\n",
    "neo4j_pass = NEO4J_PASSWORD\n",
    "\n",
    "gds = GraphDatabase.driver(neo4j_url,auth=(neo4j_user,neo4j_pass))"
   ]
  },
  {
   "cell_type": "code",
   "execution_count": 5,
   "metadata": {},
   "outputs": [
    {
     "name": "stderr",
     "output_type": "stream",
     "text": [
      "[*********************100%%**********************]  1 of 1 completed\n",
      "[*********************100%%**********************]  1 of 1 completed\n",
      "[*********************100%%**********************]  1 of 1 completed\n",
      "  3%|▎         | 4/134 [00:34<14:46,  6.82s/it]"
     ]
    },
    {
     "name": "stdout",
     "output_type": "stream",
     "text": [
      " 'EntityCommonStockSharesOutstanding' in symbol GOOG\n"
     ]
    },
    {
     "name": "stderr",
     "output_type": "stream",
     "text": [
      "[*********************100%%**********************]  1 of 1 completed\n",
      "  4%|▍         | 6/134 [00:44<11:53,  5.57s/it]"
     ]
    },
    {
     "name": "stdout",
     "output_type": "stream",
     "text": [
      " 'EntityCommonStockSharesOutstanding' in symbol META\n"
     ]
    },
    {
     "name": "stderr",
     "output_type": "stream",
     "text": [
      "[*********************100%%**********************]  1 of 1 completed\n",
      "[*********************100%%**********************]  1 of 1 completed\n",
      "[*********************100%%**********************]  1 of 1 completed\n",
      "[*********************100%%**********************]  1 of 1 completed\n",
      "[*********************100%%**********************]  1 of 1 completed\n",
      "  9%|▉         | 12/134 [01:33<13:08,  6.47s/it]"
     ]
    },
    {
     "name": "stdout",
     "output_type": "stream",
     "text": [
      " 'EntityCommonStockSharesOutstanding' in symbol NVO\n"
     ]
    },
    {
     "name": "stderr",
     "output_type": "stream",
     "text": [
      "[*********************100%%**********************]  1 of 1 completed\n",
      "[*********************100%%**********************]  1 of 1 completed\n",
      "[*********************100%%**********************]  1 of 1 completed\n",
      "[*********************100%%**********************]  1 of 1 completed\n",
      "[*********************100%%**********************]  1 of 1 completed\n",
      "[*********************100%%**********************]  1 of 1 completed\n",
      " 14%|█▍        | 19/134 [02:44<13:55,  7.26s/it]"
     ]
    },
    {
     "name": "stdout",
     "output_type": "stream",
     "text": [
      " FinnhubAPIException(status_code: 403): You don't have access to this resource. in symbol MC.PA\n"
     ]
    },
    {
     "name": "stderr",
     "output_type": "stream",
     "text": [
      "[*********************100%%**********************]  1 of 1 completed\n",
      "[*********************100%%**********************]  1 of 1 completed\n",
      "[*********************100%%**********************]  1 of 1 completed\n",
      "[*********************100%%**********************]  1 of 1 completed\n",
      "[*********************100%%**********************]  1 of 1 completed\n",
      "[*********************100%%**********************]  1 of 1 completed\n",
      "[*********************100%%**********************]  1 of 1 completed\n",
      "[*********************100%%**********************]  1 of 1 completed\n",
      "[*********************100%%**********************]  1 of 1 completed\n",
      "[*********************100%%**********************]  1 of 1 completed\n",
      "[*********************100%%**********************]  1 of 1 completed\n",
      "[*********************100%%**********************]  1 of 1 completed\n",
      "[*********************100%%**********************]  1 of 1 completed\n",
      " 24%|██▍       | 32/134 [04:55<17:16, 10.17s/it]"
     ]
    },
    {
     "name": "stdout",
     "output_type": "stream",
     "text": [
      " FinnhubAPIException(status_code: 403): You don't have access to this resource. in symbol NESN.SW\n"
     ]
    },
    {
     "name": "stderr",
     "output_type": "stream",
     "text": [
      "[*********************100%%**********************]  1 of 1 completed\n",
      " 27%|██▋       | 36/134 [05:06<07:15,  4.44s/it]"
     ]
    },
    {
     "name": "stdout",
     "output_type": "stream",
     "text": [
      " FinnhubAPIException(status_code: 403): You don't have access to this resource. in symbol RMS.PA\n",
      " FinnhubAPIException(status_code: 403): You don't have access to this resource. in symbol OR.PA\n"
     ]
    },
    {
     "name": "stderr",
     "output_type": "stream",
     "text": [
      "[*********************100%%**********************]  1 of 1 completed\n",
      "[*********************100%%**********************]  1 of 1 completed\n",
      "[*********************100%%**********************]  1 of 1 completed\n",
      " 30%|██▉       | 40/134 [05:36<08:54,  5.69s/it]"
     ]
    },
    {
     "name": "stdout",
     "output_type": "stream",
     "text": [
      " 'name' in symbol IHC.AE\n"
     ]
    },
    {
     "name": "stderr",
     "output_type": "stream",
     "text": [
      " 31%|███▏      | 42/134 [05:37<04:40,  3.05s/it]"
     ]
    },
    {
     "name": "stdout",
     "output_type": "stream",
     "text": [
      " 'dei' in symbol AZN\n",
      " FinnhubAPIException(status_code: 403): You don't have access to this resource. in symbol RELIANCE.NS\n"
     ]
    },
    {
     "name": "stderr",
     "output_type": "stream",
     "text": [
      "[*********************100%%**********************]  1 of 1 completed\n",
      "[*********************100%%**********************]  1 of 1 completed\n",
      "[*********************100%%**********************]  1 of 1 completed\n",
      "[*********************100%%**********************]  1 of 1 completed\n",
      "[*********************100%%**********************]  1 of 1 completed\n",
      "[*********************100%%**********************]  1 of 1 completed\n",
      "[*********************100%%**********************]  1 of 1 completed\n",
      "[*********************100%%**********************]  1 of 1 completed\n",
      "[*********************100%%**********************]  1 of 1 completed\n",
      "[*********************100%%**********************]  1 of 1 completed\n",
      "[*********************100%%**********************]  1 of 1 completed\n",
      " 41%|████      | 55/134 [07:27<06:30,  4.95s/it]"
     ]
    },
    {
     "name": "stdout",
     "output_type": "stream",
     "text": [
      " 'dei' in symbol PDD\n",
      " FinnhubAPIException(status_code: 403): You don't have access to this resource. in symbol ROG.SW\n"
     ]
    },
    {
     "name": "stderr",
     "output_type": "stream",
     "text": [
      "[*********************100%%**********************]  1 of 1 completed\n",
      "[*********************100%%**********************]  1 of 1 completed\n",
      "[*********************100%%**********************]  1 of 1 completed\n",
      "[*********************100%%**********************]  1 of 1 completed\n",
      "[*********************100%%**********************]  1 of 1 completed\n",
      "[*********************100%%**********************]  1 of 1 completed\n",
      "[*********************100%%**********************]  1 of 1 completed\n",
      "[*********************100%%**********************]  1 of 1 completed\n",
      "[*********************100%%**********************]  1 of 1 completed\n",
      "[*********************100%%**********************]  1 of 1 completed\n",
      "[*********************100%%**********************]  1 of 1 completed\n",
      " 50%|█████     | 67/134 [09:18<07:50,  7.02s/it]"
     ]
    },
    {
     "name": "stdout",
     "output_type": "stream",
     "text": [
      " FinnhubAPIException(status_code: 403): You don't have access to this resource. in symbol TCS.NS\n"
     ]
    },
    {
     "name": "stderr",
     "output_type": "stream",
     "text": [
      "[*********************100%%**********************]  1 of 1 completed\n",
      "[*********************100%%**********************]  1 of 1 completed\n",
      "[*********************100%%**********************]  1 of 1 completed\n",
      "[*********************100%%**********************]  1 of 1 completed\n",
      "[*********************100%%**********************]  1 of 1 completed\n",
      " 54%|█████▍    | 73/134 [10:09<06:55,  6.81s/it]"
     ]
    },
    {
     "name": "stdout",
     "output_type": "stream",
     "text": [
      " FinnhubAPIException(status_code: 403): You don't have access to this resource. in symbol PRX.AS\n"
     ]
    },
    {
     "name": "stderr",
     "output_type": "stream",
     "text": [
      "[*********************100%%**********************]  1 of 1 completed\n",
      "[*********************100%%**********************]  1 of 1 completed\n",
      "[*********************100%%**********************]  1 of 1 completed\n",
      "[*********************100%%**********************]  1 of 1 completed\n",
      " 57%|█████▋    | 77/134 [10:58<09:36, 10.12s/it]"
     ]
    },
    {
     "name": "stdout",
     "output_type": "stream",
     "text": [
      " FinnhubAPIException(status_code: 403): You don't have access to this resource. in symbol SIE.DE\n"
     ]
    },
    {
     "name": "stderr",
     "output_type": "stream",
     "text": [
      "[*********************100%%**********************]  1 of 1 completed\n",
      "[*********************100%%**********************]  1 of 1 completed\n",
      "[*********************100%%**********************]  1 of 1 completed\n",
      "[*********************100%%**********************]  1 of 1 completed\n",
      "[*********************100%%**********************]  1 of 1 completed\n",
      " 63%|██████▎   | 85/134 [11:46<03:49,  4.69s/it]"
     ]
    },
    {
     "name": "stdout",
     "output_type": "stream",
     "text": [
      " An error occurred with the SEC EDGAR API: 404 Client Error: Not Found for url: https://data.sec.gov/api/xbrl/companyfacts/CIK0001438656.json in symbol IDEXY\n",
      " FinnhubAPIException(status_code: 403): You don't have access to this resource. in symbol CDI.PA\n"
     ]
    },
    {
     "name": "stderr",
     "output_type": "stream",
     "text": [
      "[*********************100%%**********************]  1 of 1 completed\n",
      "[*********************100%%**********************]  1 of 1 completed\n",
      "[*********************100%%**********************]  1 of 1 completed\n",
      "[*********************100%%**********************]  1 of 1 completed\n",
      "[*********************100%%**********************]  1 of 1 completed\n",
      "[*********************100%%**********************]  1 of 1 completed\n",
      "[*********************100%%**********************]  1 of 1 completed\n",
      "[*********************100%%**********************]  1 of 1 completed\n",
      "[*********************100%%**********************]  1 of 1 completed\n",
      "[*********************100%%**********************]  1 of 1 completed\n",
      "[*********************100%%**********************]  1 of 1 completed\n",
      " 72%|███████▏  | 96/134 [13:45<06:21, 10.03s/it]"
     ]
    },
    {
     "name": "stdout",
     "output_type": "stream",
     "text": [
      " FinnhubAPIException(status_code: 403): You don't have access to this resource. in symbol AIR.PA\n"
     ]
    },
    {
     "name": "stderr",
     "output_type": "stream",
     "text": [
      "[*********************100%%**********************]  1 of 1 completed\n",
      " 74%|███████▍  | 99/134 [13:55<03:20,  5.74s/it]"
     ]
    },
    {
     "name": "stdout",
     "output_type": "stream",
     "text": [
      " FinnhubAPIException(status_code: 403): You don't have access to this resource. in symbol SU.PA\n"
     ]
    },
    {
     "name": "stderr",
     "output_type": "stream",
     "text": [
      "[*********************100%%**********************]  1 of 1 completed\n",
      "[*********************100%%**********************]  1 of 1 completed\n",
      " 75%|███████▌  | 101/134 [14:14<04:12,  7.64s/it]"
     ]
    },
    {
     "name": "stdout",
     "output_type": "stream",
     "text": [
      " FinnhubAPIException(status_code: 403): You don't have access to this resource. in symbol CBA.AX\n"
     ]
    },
    {
     "name": "stderr",
     "output_type": "stream",
     "text": [
      "[*********************100%%**********************]  1 of 1 completed\n",
      "[*********************100%%**********************]  1 of 1 completed\n",
      "[*********************100%%**********************]  1 of 1 completed\n",
      "[*********************100%%**********************]  1 of 1 completed\n",
      "[*********************100%%**********************]  1 of 1 completed\n",
      "[*********************100%%**********************]  1 of 1 completed\n",
      "[*********************100%%**********************]  1 of 1 completed\n",
      "[*********************100%%**********************]  1 of 1 completed\n",
      "[*********************100%%**********************]  1 of 1 completed\n",
      "[*********************100%%**********************]  1 of 1 completed\n",
      "[*********************100%%**********************]  1 of 1 completed\n",
      "[*********************100%%**********************]  1 of 1 completed\n",
      " 85%|████████▌ | 114/134 [16:20<03:58, 11.92s/it]"
     ]
    },
    {
     "name": "stdout",
     "output_type": "stream",
     "text": [
      " FinnhubAPIException(status_code: 403): You don't have access to this resource. in symbol DTE.DE\n"
     ]
    },
    {
     "name": "stderr",
     "output_type": "stream",
     "text": [
      "[*********************100%%**********************]  1 of 1 completed\n",
      "[*********************100%%**********************]  1 of 1 completed\n",
      "[*********************100%%**********************]  1 of 1 completed\n",
      " 88%|████████▊ | 118/134 [16:56<02:40, 10.06s/it]"
     ]
    },
    {
     "name": "stdout",
     "output_type": "stream",
     "text": [
      " FinnhubAPIException(status_code: 403): You don't have access to this resource. in symbol ALV.DE\n"
     ]
    },
    {
     "name": "stderr",
     "output_type": "stream",
     "text": [
      "[*********************100%%**********************]  1 of 1 completed\n",
      "[*********************100%%**********************]  1 of 1 completed\n",
      "[*********************100%%**********************]  1 of 1 completed\n",
      " 92%|█████████▏| 123/134 [17:27<01:14,  6.75s/it]"
     ]
    },
    {
     "name": "stdout",
     "output_type": "stream",
     "text": [
      " 'dei' in symbol BP\n"
     ]
    },
    {
     "name": "stderr",
     "output_type": "stream",
     "text": [
      "[*********************100%%**********************]  1 of 1 completed\n",
      "[*********************100%%**********************]  1 of 1 completed\n",
      "[*********************100%%**********************]  1 of 1 completed\n",
      "[*********************100%%**********************]  1 of 1 completed\n",
      "[*********************100%%**********************]  1 of 1 completed\n",
      "[*********************100%%**********************]  1 of 1 completed\n",
      "[*********************100%%**********************]  1 of 1 completed\n",
      " 98%|█████████▊| 131/134 [18:38<00:20,  6.99s/it]"
     ]
    },
    {
     "name": "stdout",
     "output_type": "stream",
     "text": [
      " FinnhubAPIException(status_code: 403): You don't have access to this resource. in symbol AI.PA\n"
     ]
    },
    {
     "name": "stderr",
     "output_type": "stream",
     "text": [
      " 99%|█████████▊| 132/134 [18:39<00:10,  5.11s/it]"
     ]
    },
    {
     "name": "stdout",
     "output_type": "stream",
     "text": [
      " 'EntityCommonStockSharesOutstanding' in symbol ABNB\n"
     ]
    },
    {
     "name": "stderr",
     "output_type": "stream",
     "text": [
      "[*********************100%%**********************]  1 of 1 completed\n",
      "[*********************100%%**********************]  1 of 1 completed\n",
      "100%|██████████| 134/134 [18:59<00:00,  8.51s/it]\n"
     ]
    }
   ],
   "source": [
    "#Se genera set de datos con los ajustes para generar los prompts para pasar por LLM y generar el data set\n",
    "com_list = pd.read_csv('./data/ticker_select.txt', sep='\\t',names=['symbol', 'cipk'])\n",
    "data = getdatafin3.get_data('data',com_list)"
   ]
  },
  {
   "cell_type": "code",
   "execution_count": 79,
   "metadata": {},
   "outputs": [],
   "source": [
    "#Generación del prompt base para pasar al LLM y genere nuestro data set base\n",
    "prompt = \"\"\"[INST]<<SYS>>\n",
    "You are a seasoned stock market analyst. Your task is to create strategic questions for companies based on relevant news and basic financials from the past weeks, then provide an answer for the questions for the companies' financial status.\n",
    "0. ALWAYS FINISH THE OUTPUT. Never send partial responses\n",
    "1. The output should look like :\n",
    "{\n",
    "    \"question\": \"Where are Apple Inc. offices?\",\n",
    "    \"answer\": \"The offices are located in ONE APPLE PARK WAY Cupertino CA\"\n",
    "}\n",
    "\n",
    "Or like :\n",
    "{\n",
    "    \"question\": \"When where the stock value of Apple Inc. the highest?\",\n",
    "    \"answer\": \"Apple Inc. highest value was on 2023-12-14\"\n",
    "}\n",
    "2. Provide at least 20 and no more than 50 questions with their corresponding answers.\n",
    "\n",
    "<<SYS>>\n",
    "$ctext\n",
    "\"\"\""
   ]
  },
  {
   "cell_type": "code",
   "execution_count": 80,
   "metadata": {},
   "outputs": [],
   "source": [
    "#Proceso local para generar nuestros data set\n",
    "def process_local(file_prompt,system_msg):\n",
    "    inputs = tokenizer(\n",
    "        file_prompt, return_tensors='pt',\n",
    "        padding=False, max_length=4096\n",
    "    )\n",
    "    inputs = {key: value.to(model.device) for key, value in inputs.items()}\n",
    "        \n",
    "    res = model.generate(\n",
    "        **inputs, max_length=4096, do_sample=True,\n",
    "        eos_token_id=tokenizer.eos_token_id,\n",
    "        use_cache=True\n",
    "    )\n",
    "    output = tokenizer.decode(res[0], skip_special_tokens=True)\n",
    "    return output    \n",
    "\n",
    "#Proceso para chatgpt para generar nuestros data set\n",
    "def process_chatgpt(file_prompt,system_msg):\n",
    "    with model.chat_session(system_msg,file_prompt):\n",
    "        result = model.generate(file_prompt)\n",
    "    nlp_results = json.dumps(result)\n",
    "    sleep(8)\n",
    "    return nlp_results\n",
    "\n",
    "#generar corpus de preguntas y respuestas\n",
    "def extract_qa(file, prompt_template,path):\n",
    "    \n",
    "    com_list = pd.read_csv(file, sep='\\t',names=['symbol', 'cipk'])\n",
    "    results = []\n",
    "    start = timer()\n",
    "\n",
    "    system_msg = \"You are a seasoned stock market analyst.\"\n",
    "    \n",
    "    for i in com_list['symbol']:\n",
    "        \n",
    "        with open(f'{path}/{i}_data.txt', 'r') as file:\n",
    "            text = file.read().replace('\\n', '')\n",
    "            print(f\"Extracting questions and anwers for {i}\")\n",
    "            prompt = Template(prompt_template).substitute(ctext=json.dumps(text))\n",
    "            result = process_local(prompt, system_msg=system_msg)\n",
    "            results.append(result)\n",
    "            \n",
    "    end = timer()\n",
    "    print(f\"Pipeline completed in {end-start} seconds\")\n",
    "    return results"
   ]
  }
 ],
 "metadata": {
  "kernelspec": {
   "display_name": "Python 3",
   "language": "python",
   "name": "python3"
  },
  "language_info": {
   "codemirror_mode": {
    "name": "ipython",
    "version": 3
   },
   "file_extension": ".py",
   "mimetype": "text/x-python",
   "name": "python",
   "nbconvert_exporter": "python",
   "pygments_lexer": "ipython3",
   "version": "3.11.2"
  }
 },
 "nbformat": 4,
 "nbformat_minor": 2
}
