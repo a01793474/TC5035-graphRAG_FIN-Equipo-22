{
 "cells": [
  {
   "cell_type": "markdown",
   "id": "745ebbc2",
   "metadata": {},
   "source": [
    "# Generate graphRAG for Financial Data #"
   ]
  },
  {
   "cell_type": "markdown",
   "id": "b89d8938",
   "metadata": {},
   "source": [
    "## Imports ##"
   ]
  },
  {
   "cell_type": "code",
   "execution_count": 1,
   "id": "a5fd823d-c64e-4a2d-a01f-67e52191045e",
   "metadata": {
    "tags": []
   },
   "outputs": [],
   "source": [
    "import os\n",
    "import glob\n",
    "import time\n",
    "import pandas as pd\n",
    "from dotenv import load_dotenv\n",
    "from pathlib import Path\n",
    "from typing import List\n",
    "\n",
    "from langchain_community.document_loaders import TextLoader\n",
    "from langchain_community.graphs import Neo4jGraph\n",
    "from langchain_core.prompts import ChatPromptTemplate\n",
    "from langchain_core.pydantic_v1 import BaseModel, Field\n",
    "from langchain_openai import ChatOpenAI, OpenAIEmbeddings, AzureOpenAIEmbeddings, AzureChatOpenAI\n",
    "from langchain_text_splitters import TokenTextSplitter\n",
    "from neo4j.exceptions import ClientError\n",
    "\n",
    "# import openai\n",
    "# from openai import OpenAI\n",
    "# from openai import AzureOpenAI\n",
    "\n",
    "from time import sleep\n",
    "import hashlib\n",
    "\n"
   ]
  },
  {
   "cell_type": "markdown",
   "id": "94281a6d-9bd8-46bc-896b-a96961f004f7",
   "metadata": {
    "tags": []
   },
   "source": [
    "## Initializations ##"
   ]
  },
  {
   "cell_type": "code",
   "execution_count": 2,
   "id": "f9a98868-d5ea-45e7-b66c-7f6e91ae0f46",
   "metadata": {
    "tags": []
   },
   "outputs": [
    {
     "data": {
      "text/plain": [
       "[]"
      ]
     },
     "execution_count": 2,
     "metadata": {},
     "output_type": "execute_result"
    }
   ],
   "source": [
    "# Load from environment\n",
    "load_dotenv('.env', override=True)\n",
    "\n",
    "AZURE_OPENAI_ENDPOINT=os.getenv(\"AZURE_OPENAI_ENDPOINT\")\n",
    "AZURE_OPENAI_API_KEY=os.getenv(\"AZURE_OPENAI_API_KEY\"), \n",
    "\n",
    "\n",
    "\n",
    "# Embeddings & LLM models\n",
    "embedding_dimension = 1536\n",
    "embeddings = AzureOpenAIEmbeddings(azure_deployment=\"text-embedding-3\",api_version=\"2024-02-01\",dimensions=embedding_dimension)\n",
    "\n",
    "llm = AzureChatOpenAI(azure_deployment='chat_gtp_35',api_version=\"2023-05-15\", temperature=0)\n",
    "\n",
    "# Get Neo4j credentials from environment variables\n",
    "NEO4J_URI=os.getenv(\"NEO4J_URI\")\n",
    "NEO4J_USERNAME=os.getenv(\"NEO4J_USERNAME\")\n",
    "NEO4J_PASSWORD=os.getenv(\"NEO4J_PASSWORD\")\n",
    "\n",
    "graph = Neo4jGraph(url=NEO4J_URI,username=NEO4J_USERNAME,password=NEO4J_PASSWORD)\n",
    "sleep(2)\n",
    "\n",
    "#Clear KG from previous sesions\n",
    "graph.refresh_schema()\n",
    "graph.query(\"MATCH (n) DETACH DELETE n\")\n",
    "graph.query(\"DROP INDEX hypothetical_questions IF EXISTS\")\n",
    "graph.query(\"DROP INDEX parent_document IF EXISTS\")\n",
    "graph.query(\"DROP INDEX summary IF EXISTS\")\n",
    "graph.query(\"DROP INDEX typical_rag IF EXISTS\")\n",
    "# graph.query(\"\"\"\n",
    "#   SHOW VECTOR INDEXES\n",
    "#   \"\"\"\n",
    "# )\n"
   ]
  },
  {
   "cell_type": "markdown",
   "id": "84b6f8d5",
   "metadata": {},
   "source": [
    "## Data ##"
   ]
  },
  {
   "cell_type": "code",
   "execution_count": 3,
   "id": "4ddb9095-057c-49d3-bcfa-c815dd2e9081",
   "metadata": {},
   "outputs": [],
   "source": [
    "# # pip install sec-api\n",
    "# # from sec_api import ExtractorApi\n",
    "# # import multiprocessing\n",
    "\n",
    "# API_KEY=os.getenv(\"SEC_API\")\n",
    "\n",
    "# extractorApi = ExtractorApi(API_KEY)\n",
    "\n",
    "# def extract_items_10k(filing_url):\n",
    "    \n",
    "#     items = [\"1\", \"1A\", \"7\",\n",
    "#            \"7A\"]\n",
    "#     filing_name = os.path.basename(filing_url)\n",
    "\n",
    "#     for item in items:\n",
    "#         print(\"item:\", item, \"url\", filing_url)\n",
    "\n",
    "#         try:\n",
    "#             section_text = extractorApi.get_section(filing_url=filing_url,\n",
    "#                                               section=item,\n",
    "#                                               return_type=\"text\")\n",
    "\n",
    "#         # do something with section_text. for example, save to disk, in a database\n",
    "#         # or perform analytics\n",
    "#         # IMPORTANT: you don't want to hold a large number of sections in memory\n",
    "#         # and add sections to a list. otherwise you end up with out-of-memory issues.\n",
    "#         # instead make sure to let the garbage collection release memory frequently.\n",
    "\n",
    "#         # Create a new directory for the current filing if it doesn't exist\n",
    "#             if not os.path.exists(filing_name):\n",
    "#                 os.makedirs(filing_name)\n",
    "\n",
    "#             # Save the extracted text to a file\n",
    "#             with open(f\"{filing_name}/{item}.txt\", \"w\") as f:\n",
    "#                 f.write(section_text)\n",
    "#         except Exception as e:\n",
    "#             print(e)\n",
    "\n",
    "# urls_10k = [\"https://www.sec.gov/Archives/edgar/data/1045810/000104581022000036/nvda-20220130.htm\"]\n",
    "\n",
    "# # represents the number of processes to run in parallel.\n",
    "# # if you perform a CPU-light task such as saving a section to your local disk,\n",
    "# # you might want to set the number of processes slighly higher\n",
    "# # than number of CPU cores. if you perform CPU-heavy tasks, set number_of_processes\n",
    "# # to the actual number of CPU cores.\n",
    "# number_of_processes = 2\n",
    "\n",
    "# with multiprocessing.Pool(number_of_processes) as pool:\n",
    "#     pool.map(extract_items_10k, urls_10k)"
   ]
  },
  {
   "cell_type": "markdown",
   "id": "e0f9df2a",
   "metadata": {},
   "source": [
    "## Code ##"
   ]
  },
  {
   "cell_type": "code",
   "execution_count": 15,
   "id": "92c96421-2192-4f26-beec-5c24893da022",
   "metadata": {
    "tags": []
   },
   "outputs": [
    {
     "data": {
      "text/plain": [
       "[]"
      ]
     },
     "execution_count": 15,
     "metadata": {},
     "output_type": "execute_result"
    }
   ],
   "source": [
    "#Clear KG from previous sesions\n",
    "graph.refresh_schema()\n",
    "graph.query(\"MATCH (n) DETACH DELETE n\")\n",
    "graph.query(\"DROP INDEX hypothetical_questions IF EXISTS\")\n",
    "graph.query(\"DROP INDEX parent_document IF EXISTS\")\n",
    "graph.query(\"DROP INDEX summary IF EXISTS\")\n",
    "graph.query(\"DROP INDEX typical_rag IF EXISTS\")"
   ]
  },
  {
   "cell_type": "code",
   "execution_count": 13,
   "id": "c4e0806d-eac8-4355-85f8-3c5404aa5175",
   "metadata": {
    "tags": []
   },
   "outputs": [],
   "source": [
    "def extract_entities_relationships(folder):\n",
    "    files = glob.glob(f'./sec_10K_data/{folder}/*.txt')\n",
    "    start = time.perf_counter()\n",
    "    print(f\"Running pipeline for {len(files)} files in {folder} folder\")\n",
    "\n",
    "    # Create a node representing the folder\n",
    "    folder_id = f\"folder-{hashlib.sha256(folder.encode()).hexdigest()}\"\n",
    "    graph.query(\n",
    "        \"\"\"\n",
    "        MERGE (f:Folder {id: $folder_id})\n",
    "        ON CREATE SET f.name = $folder_name\n",
    "        \"\"\",\n",
    "        {\"folder_id\": folder_id, \"folder_name\": folder}\n",
    "    )\n",
    "\n",
    "    # Create a Company node using the first four letters of the folder name\n",
    "    company_name = folder[:4]\n",
    "    company_id = f\"company-{hashlib.sha256(company_name.encode()).hexdigest()}\"\n",
    "    graph.query(\n",
    "        \"\"\"\n",
    "        MERGE (c:Company {id: $company_id})\n",
    "        ON CREATE SET c.name = $company_name\n",
    "        \"\"\",\n",
    "        {\"company_id\": company_id, \"company_name\": company_name}\n",
    "    )\n",
    "\n",
    "    # Link the Company node to all Folder nodes\n",
    "    graph.query(\n",
    "        \"\"\"\n",
    "        MATCH (f:Folder)\n",
    "        MERGE (c:Company {id: $company_id})\n",
    "        MERGE (f)-[:COMPANY]->(c)\n",
    "        \"\"\",\n",
    "        {\"company_id\": company_id}\n",
    "    )\n",
    "\n",
    "    for file_path in files:\n",
    "        print(f\"Extracting entities and relationships for: {str(file_path)}\")\n",
    "\n",
    "        loader = TextLoader(str(file_path), encoding='utf-8')\n",
    "        documents = loader.load()\n",
    "\n",
    "        parent_splitter = TokenTextSplitter(chunk_size=512*5, chunk_overlap=24)\n",
    "        child_splitter = TokenTextSplitter(chunk_size=100*5, chunk_overlap=24)\n",
    "        parent_documents = parent_splitter.split_documents(documents)\n",
    "\n",
    "        parent_ids = []  # List to store parent IDs\n",
    "\n",
    "        for i, parent in enumerate(parent_documents):\n",
    "            child_documents = child_splitter.split_documents([parent])\n",
    "            file_name = os.path.basename(file_path)\n",
    "            parent_id = f\"{file_name}-{hashlib.sha256(parent.page_content.encode()).hexdigest()}\"\n",
    "            parent_ids.append(parent_id)  # Store the parent ID\n",
    "\n",
    "            params = {\n",
    "                \"parent_text\": parent.page_content,\n",
    "                \"parent_id\": parent_id,  # Use the file name and hash of the content as the ID\n",
    "                \"parent_embedding\": embeddings.embed_query(parent.page_content),\n",
    "                \"children\": [\n",
    "                    {\n",
    "                        \"text\": c.page_content,\n",
    "                        \"id\": f\"{file_name}-{hashlib.sha256(c.page_content.encode()).hexdigest()}\",  # Use the file name and hash of the content as the ID\n",
    "                        \"embedding\": embeddings.embed_query(c.page_content),\n",
    "                    }\n",
    "                    for c in child_documents\n",
    "                ],\n",
    "            }\n",
    "\n",
    "            # Ingest data\n",
    "            graph.query(\n",
    "                \"\"\"\n",
    "                MERGE (p:Parent {id: $parent_id})\n",
    "                ON CREATE SET p.text = $parent_text\n",
    "                WITH p\n",
    "                CALL db.create.setVectorProperty(p, 'embedding', $parent_embedding)\n",
    "                YIELD node\n",
    "                WITH p\n",
    "                UNWIND $children AS child\n",
    "                MERGE (c:Child {id: child.id})\n",
    "                ON CREATE SET c.text = child.text\n",
    "                MERGE (c)<-[:HAS_CHILD]-(p)\n",
    "                WITH c, child\n",
    "                CALL db.create.setVectorProperty(c, 'embedding', child.embedding)\n",
    "                YIELD node\n",
    "                RETURN count(*)\n",
    "                \"\"\",\n",
    "                params,\n",
    "            )\n",
    "\n",
    "            # Create vector index for child\n",
    "            try:\n",
    "                graph.query(\n",
    "                    \"CALL db.index.vector.createNodeIndex('parent_document', \"\n",
    "                    \"'Child', 'embedding', $dimension, 'cosine')\",\n",
    "                    {\"dimension\": embedding_dimension},\n",
    "                )\n",
    "            except ClientError:  # already exists\n",
    "                pass\n",
    "\n",
    "            # Create vector index for parents\n",
    "            try:\n",
    "                graph.query(\n",
    "                    \"CALL db.index.vector.createNodeIndex('typical_rag', \"\n",
    "                    \"'Parent', 'embedding', $dimension, 'cosine')\",\n",
    "                    {\"dimension\": embedding_dimension},\n",
    "                )\n",
    "            except ClientError:  # already exists\n",
    "                pass\n",
    "\n",
    "        # Create NEXT relationships between parents\n",
    "        for j in range(len(parent_ids) - 1):\n",
    "            graph.query(\n",
    "                \"\"\"\n",
    "                MATCH (p1:Parent {id: $parent_id_1}), (p2:Parent {id: $parent_id_2})\n",
    "                MERGE (p1)-[:NEXT]->(p2)\n",
    "                \"\"\",\n",
    "                {\"parent_id_1\": parent_ids[j], \"parent_id_2\": parent_ids[j + 1]},\n",
    "            )\n",
    "\n",
    "        # Create GRAND_FATHER relationships between folder and parents\n",
    "        for parent_id in parent_ids:\n",
    "            graph.query(\n",
    "                \"\"\"\n",
    "                MATCH (f:Folder {id: $folder_id}), (p:Parent {id: $parent_id})\n",
    "                MERGE (p)-[:GRAND_FATHER]->(f)\n",
    "                \"\"\",\n",
    "                {\"folder_id\": folder_id, \"parent_id\": parent_id},\n",
    "            )\n",
    "            \n",
    "    end = time.perf_counter()\n",
    "    print(f\"Pipeline completed in {end-start} seconds\")    \n",
    "    \n",
    "def ingestion_pipeline(folders):\n",
    "\n",
    "    for folder in folders:\n",
    "        extract_entities_relationships(folder)"
   ]
  },
  {
   "cell_type": "markdown",
   "id": "f8c0e7bc",
   "metadata": {},
   "source": [
    "## Test Data Ingestion ##"
   ]
  },
  {
   "cell_type": "code",
   "execution_count": 16,
   "id": "bf63ecaf",
   "metadata": {
    "tags": []
   },
   "outputs": [
    {
     "name": "stdout",
     "output_type": "stream",
     "text": [
      "Running pipeline for 4 files in nvda-20220130 folder\n",
      "Extracting entities and relationships for: ./sec_10K_data/nvda-20220130\\1.txt\n",
      "Extracting entities and relationships for: ./sec_10K_data/nvda-20220130\\1A.txt\n",
      "Extracting entities and relationships for: ./sec_10K_data/nvda-20220130\\7.txt\n",
      "Extracting entities and relationships for: ./sec_10K_data/nvda-20220130\\7A.txt\n",
      "Pipeline completed in 24.989017600000807 seconds\n",
      "Running pipeline for 4 files in nvda-20230129 folder\n",
      "Extracting entities and relationships for: ./sec_10K_data/nvda-20230129\\1.txt\n",
      "Extracting entities and relationships for: ./sec_10K_data/nvda-20230129\\1A.txt\n",
      "Extracting entities and relationships for: ./sec_10K_data/nvda-20230129\\7.txt\n",
      "Extracting entities and relationships for: ./sec_10K_data/nvda-20230129\\7A.txt\n",
      "Pipeline completed in 26.684471399999893 seconds\n",
      "Running pipeline for 4 files in nvda-20240128 folder\n",
      "Extracting entities and relationships for: ./sec_10K_data/nvda-20240128\\1.txt\n",
      "Extracting entities and relationships for: ./sec_10K_data/nvda-20240128\\1A.txt\n",
      "Extracting entities and relationships for: ./sec_10K_data/nvda-20240128\\7.txt\n",
      "Extracting entities and relationships for: ./sec_10K_data/nvda-20240128\\7A.txt\n",
      "Pipeline completed in 29.019481699999233 seconds\n"
     ]
    }
   ],
   "source": [
    "folders = [\"nvda-20220130\",\"nvda-20230129\",\"nvda-20240128\"]\n",
    "ingestion_pipeline(folders)"
   ]
  },
  {
   "cell_type": "markdown",
   "id": "93374647-a1dd-463b-b933-8219c153ea65",
   "metadata": {},
   "source": [
    "## Test RAG ##"
   ]
  },
  {
   "cell_type": "code",
   "execution_count": null,
   "id": "7a42ed9b-b438-4478-b3f3-f091f9525eb5",
   "metadata": {
    "tags": []
   },
   "outputs": [],
   "source": [
    "from langchain_community.vectorstores import Neo4jVector\n",
    "\n",
    "\n",
    "# Typical RAG retriever\n",
    "\n",
    "typical_rag = Neo4jVector.from_existing_index(\n",
    "    embeddings, index_name=\"typical_rag\"\n",
    ")\n",
    "\n",
    "# Parent retriever\n",
    "\n",
    "parent_query = \"\"\"\n",
    "MATCH (node)<-[:HAS_CHILD]-(parent)\n",
    "WITH parent, max(score) AS score // deduplicate parents\n",
    "RETURN parent.text AS text, score, {} AS metadata LIMIT 1\n",
    "\"\"\"\n",
    "\n",
    "parent_vectorstore = Neo4jVector.from_existing_index(\n",
    "    embeddings,\n",
    "    index_name=\"parent_document\",\n",
    "    retrieval_query=parent_query,\n",
    ")\n",
    "\n",
    "# Hypothetic questions retriever\n",
    "\n",
    "hypothetic_question_query = \"\"\"\n",
    "MATCH (node)<-[:HAS_QUESTION]-(parent)\n",
    "WITH parent, max(score) AS score // deduplicate parents\n",
    "RETURN parent.text AS text, score, {} AS metadata\n",
    "\"\"\"\n",
    "\n",
    "hypothetic_question_vectorstore = Neo4jVector.from_existing_index(\n",
    "    embeddings,\n",
    "    index_name=\"hypothetical_questions\",\n",
    "    retrieval_query=hypothetic_question_query,\n",
    ")\n",
    "# Summary retriever\n",
    "\n",
    "summary_query = \"\"\"\n",
    "MATCH (node)<-[:HAS_SUMMARY]-(parent)\n",
    "WITH parent, max(score) AS score // deduplicate parents\n",
    "RETURN parent.text AS text, score, {} AS metadata\n",
    "\"\"\"\n",
    "\n",
    "summary_vectorstore = Neo4jVector.from_existing_index(\n",
    "    embeddings,\n",
    "    index_name=\"summary\",\n",
    "    retrieval_query=summary_query,\n",
    ")"
   ]
  },
  {
   "cell_type": "code",
   "execution_count": null,
   "id": "9dc5bdd3-be56-4927-a075-4a3d62a5423e",
   "metadata": {
    "tags": []
   },
   "outputs": [],
   "source": [
    "response = typical_rag.similarity_search(\n",
    "    \"What are some risk factors that can affect Apple's stock price?\"\n",
    ")\n",
    "print(response[0].page_content)"
   ]
  },
  {
   "cell_type": "code",
   "execution_count": null,
   "id": "d8e83525-d45e-428b-8a8e-d2dc2e6a6c90",
   "metadata": {
    "tags": []
   },
   "outputs": [],
   "source": [
    "from langchain.chains import RetrievalQA\n",
    "from langchain.chat_models import AzureChatOpenAI\n",
    "\n",
    "vector_typrag = RetrievalQA.from_chain_type(\n",
    "    llm=llm,\n",
    "    chain_type=\"stuff\",\n",
    "    retriever=typical_rag.as_retriever()\n",
    ")\n",
    "\n",
    "vector_parent = RetrievalQA.from_chain_type(\n",
    "    llm=llm,\n",
    "    chain_type=\"stuff\",\n",
    "    retriever=parent_vectorstore.as_retriever()\n",
    ")\n",
    "\n",
    "vector_hypquestion = RetrievalQA.from_chain_type(\n",
    "    llm=llm,\n",
    "    chain_type=\"stuff\",\n",
    "    retriever=hypothetic_question_vectorstore.as_retriever()\n",
    ")\n",
    "\n",
    "vector_summary = RetrievalQA.from_chain_type(\n",
    "    llm=llm,\n",
    "    chain_type=\"stuff\",\n",
    "    retriever=summary_vectorstore.as_retriever()\n",
    ")\n",
    "\n",
    "vector_typrag.invoke(\n",
    "     \"What are some risk factors that can affect Apple's stock price?\"\n",
    ")"
   ]
  },
  {
   "cell_type": "code",
   "execution_count": null,
   "id": "13952441-ceba-4b8e-917b-c206937abc8d",
   "metadata": {
    "tags": []
   },
   "outputs": [],
   "source": [
    "vector_hypquestion.invoke(\n",
    "     \"What are some risk factors that can affect Apple's stock price?\"\n",
    ")"
   ]
  },
  {
   "cell_type": "code",
   "execution_count": null,
   "id": "1b0c3708-52ad-4504-b06f-97deabe7c9d0",
   "metadata": {
    "tags": []
   },
   "outputs": [],
   "source": [
    "vector_parent.invoke(\n",
    "     \"What are some risk factors that can affect Apple's stock price?\"\n",
    ")"
   ]
  },
  {
   "cell_type": "markdown",
   "id": "3b09c268-b085-441b-842d-11dbf3f36db9",
   "metadata": {},
   "source": [
    "##RAG Agent Tool (combination of retrievers)"
   ]
  },
  {
   "cell_type": "code",
   "execution_count": null,
   "id": "a150e3e2-9ecd-43e8-867e-19bcb1eeeda5",
   "metadata": {
    "tags": []
   },
   "outputs": [],
   "source": [
    "from langchain.chains import GraphCypherQAChain\n",
    "from langchain.agents import initialize_agent, Tool\n",
    "from langchain.agents import AgentType\n",
    "\n",
    "\n",
    "cypher_chain = GraphCypherQAChain.from_llm(\n",
    "    cypher_llm = AzureChatOpenAI(azure_deployment='Chat_gpt_4',api_version=\"2023-05-15\", temperature=0),\n",
    "    qa_llm = AzureChatOpenAI(azure_deployment='chat_gtp_35',api_version=\"2023-05-15\", temperature=0), graph=graph, verbose=True,\n",
    ")\n",
    "\n",
    "tools = [\n",
    "    Tool(\n",
    "        name=\"Tasks\",\n",
    "        func=vector_typrag.run,\n",
    "        description=\"\"\"Useful to answer most of the questions.\n",
    "        Not useful for questions that involve aggregation.\n",
    "        Use full question as input.\n",
    "        \"\"\",\n",
    "        \n",
    "    ),\n",
    "    Tool(\n",
    "        name=\"Tasks\",\n",
    "        func=vector_hypquestion.run,\n",
    "        description=\"\"\"Useful to answer questions on dates and relationship between different companies.\n",
    "        Not useful for questions that involve aggregation.\n",
    "        Use full question as input.\n",
    "        \"\"\",        \n",
    "        \n",
    "    ),\n",
    "    # Tool(\n",
    "    #     name=\"Graph\",\n",
    "    #     func=cypher_chain.run,\n",
    "    #     description=\"\"\" Only useful for AGGREGATION questions.\n",
    "    #     Use full question as input.\n",
    "    #     \"\"\",\n",
    "    # ),\n",
    "]\n",
    "\n",
    "mrkl = initialize_agent(\n",
    "    tools, \n",
    "    AzureChatOpenAI(azure_deployment='Chat_gpt_4',api_version=\"2023-05-15\", temperature=0),\n",
    "    agent=AgentType.OPENAI_FUNCTIONS, verbose=True\n",
    ")\n"
   ]
  },
  {
   "cell_type": "code",
   "execution_count": null,
   "id": "a92dbc1a-36f5-4926-9ba5-157b5b5fc78e",
   "metadata": {
    "tags": []
   },
   "outputs": [],
   "source": [
    "graph.refresh_schema()\n",
    "response = mrkl.invoke(\"What are some risk factors that can affect Apple's stock price?\")\n",
    "print(response)"
   ]
  },
  {
   "cell_type": "code",
   "execution_count": null,
   "id": "778448e5-0e1e-4c19-9135-a98b6b1e852b",
   "metadata": {
    "tags": []
   },
   "outputs": [],
   "source": [
    "graph.refresh_schema()\n",
    "response = mrkl.invoke(\"What kind of business Apple handles?\")\n",
    "print(response)"
   ]
  },
  {
   "cell_type": "code",
   "execution_count": null,
   "id": "32c05238-237a-4fbd-9bbe-bc4e4ff1cf03",
   "metadata": {},
   "outputs": [],
   "source": [
    "# pip freeze >requirements.txt"
   ]
  },
  {
   "cell_type": "code",
   "execution_count": null,
   "id": "07e3f95a-31fb-4975-a88b-72e335eb0b41",
   "metadata": {
    "tags": []
   },
   "outputs": [],
   "source": [
    "# import sys\n",
    "# print(\"Python version: \" + sys.version)"
   ]
  }
 ],
 "metadata": {
  "kernelspec": {
   "display_name": "Python 3 (ipykernel)",
   "language": "python",
   "name": "python3"
  },
  "language_info": {
   "codemirror_mode": {
    "name": "ipython",
    "version": 3
   },
   "file_extension": ".py",
   "mimetype": "text/x-python",
   "name": "python",
   "nbconvert_exporter": "python",
   "pygments_lexer": "ipython3",
   "version": "3.11.5"
  }
 },
 "nbformat": 4,
 "nbformat_minor": 5
}
